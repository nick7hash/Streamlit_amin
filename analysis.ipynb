{
 "cells": [
  {
   "cell_type": "code",
   "execution_count": 2,
   "id": "fd74c5bc",
   "metadata": {},
   "outputs": [
    {
     "name": "stderr",
     "output_type": "stream",
     "text": [
      "c:\\Users\\nikhi\\AppData\\Local\\Programs\\Python\\Python313\\Lib\\site-packages\\google\\__init__.py:16: UserWarning:\n",
      "\n",
      "pkg_resources is deprecated as an API. See https://setuptools.pypa.io/en/latest/pkg_resources.html. The pkg_resources package is slated for removal as early as 2025-11-30. Refrain from using this package or pin to Setuptools<81.\n",
      "\n"
     ]
    }
   ],
   "source": [
    "import pandas as pd\n",
    "import sqlite3\n",
    "import matplotlib.pyplot as plt\n",
    "import seaborn as sns\n",
    "from matplotlib.ticker import FuncFormatter\n",
    "import plotly.express as px\n",
    "import cufflinks as cf"
   ]
  },
  {
   "cell_type": "code",
   "execution_count": 3,
   "id": "1a5e7cfb",
   "metadata": {},
   "outputs": [],
   "source": [
    "con = sqlite3.connect('amin.db')\n",
    "df = pd.read_sql(\"select * from sales\", con)\n",
    "# pd.set_option('display.max_rows', None)\n",
    "pd.set_option('display.float_format', '{:,.0f}'.format)"
   ]
  },
  {
   "cell_type": "markdown",
   "id": "7379acd3",
   "metadata": {},
   "source": [
    "### Data Cleaning"
   ]
  },
  {
   "cell_type": "code",
   "execution_count": 4,
   "id": "6dbdc5e9",
   "metadata": {},
   "outputs": [
    {
     "data": {
      "text/plain": [
       "user_pseudo_id             0\n",
       "event_date                 0\n",
       "new_event_timestamp        0\n",
       "city                       6\n",
       "pincode                    0\n",
       "subtotal                  26\n",
       "item_name_0                0\n",
       "item_name_1            22819\n",
       "item_name_2            28258\n",
       "item_name_3            29556\n",
       "item_name_4            29924\n",
       "quantity_0                49\n",
       "quantity_1             22819\n",
       "quantity_2             28254\n",
       "quantity_3             29556\n",
       "quantity_4             29924\n",
       "item_variant_0           583\n",
       "item_variant_1         22972\n",
       "item_variant_2         28306\n",
       "item_variant_3         29573\n",
       "item_variant_4         29928\n",
       "price_0                    6\n",
       "price_1                22824\n",
       "price_2                28262\n",
       "price_3                29556\n",
       "price_4                29923\n",
       "source_name              146\n",
       "source_medium             84\n",
       "source_origin             86\n",
       "rw                         0\n",
       "dtype: int64"
      ]
     },
     "execution_count": 4,
     "metadata": {},
     "output_type": "execute_result"
    }
   ],
   "source": [
    "df.isnull().sum()"
   ]
  },
  {
   "cell_type": "code",
   "execution_count": 5,
   "id": "d2aebda6",
   "metadata": {},
   "outputs": [],
   "source": [
    "df[\"cleaned_city\"] = df[\"city\"].str.lower().str.strip()\n",
    "df[\"cleaned_city\"] = df[\"cleaned_city\"].apply(lambda x: \"bangalore\" if pd.notna(x) and x.startswith(\"ben\") else x)\n",
    "df[\"cleaned_city\"] = df[\"cleaned_city\"].apply(lambda x: \"bangalore\" if pd.notna(x) and x.startswith(\"ban\") else x)\n",
    "df[\"cleaned_city\"] = df[\"cleaned_city\"].apply(lambda x: \"bangalore\" if pd.notna(x) and x.endswith((\"lore\", \"luru\")) else x)\n",
    "df[\"cleaned_city\"] = df[\"cleaned_city\"].fillna(\"bangalore\")\n",
    "df[\"subtotal\"] = df[\"subtotal\"].fillna(df[\"subtotal\"].mean())\n",
    "df.drop(columns = [\"city\"], inplace = True)\n",
    "df[\"event_date\"] = pd.to_datetime(df[\"event_date\"])"
   ]
  },
  {
   "cell_type": "code",
   "execution_count": 6,
   "id": "cc619cc5",
   "metadata": {},
   "outputs": [],
   "source": [
    "colums = [\"item_name_0\",                \n",
    "\"item_name_1\",            \n",
    "\"item_name_2\",            \n",
    "\"item_name_3\",            \n",
    "\"item_name_4\",           \n",
    "\"quantity_0\",                \n",
    "\"quantity_1\",             \n",
    "\"quantity_2\",             \n",
    "\"quantity_3\",\n",
    "\"quantity_4\",            \n",
    "\"item_variant_0\",          \n",
    "\"item_variant_1\",         \n",
    "\"item_variant_2\",         \n",
    "\"item_variant_3\",         \n",
    "\"item_variant_4\",         \n",
    "\"price_0\",                    \n",
    "\"price_1\",                \n",
    "\"price_2\",                \n",
    "\"price_3\",                \n",
    "\"price_4\",                ]\n",
    "for i in colums:\n",
    "    df[i] = df[i].replace([\"None\", None, \"NaN\"], 0).fillna(0)"
   ]
  },
  {
   "cell_type": "code",
   "execution_count": 7,
   "id": "0fa48aad",
   "metadata": {},
   "outputs": [
    {
     "name": "stdout",
     "output_type": "stream",
     "text": [
      "<class 'pandas.core.frame.DataFrame'>\n",
      "RangeIndex: 30075 entries, 0 to 30074\n",
      "Data columns (total 30 columns):\n",
      " #   Column               Non-Null Count  Dtype         \n",
      "---  ------               --------------  -----         \n",
      " 0   user_pseudo_id       30075 non-null  object        \n",
      " 1   event_date           30075 non-null  datetime64[ns]\n",
      " 2   new_event_timestamp  30075 non-null  object        \n",
      " 3   pincode              30075 non-null  int64         \n",
      " 4   subtotal             30075 non-null  float64       \n",
      " 5   item_name_0          30075 non-null  object        \n",
      " 6   item_name_1          30075 non-null  object        \n",
      " 7   item_name_2          30075 non-null  object        \n",
      " 8   item_name_3          30075 non-null  object        \n",
      " 9   item_name_4          30075 non-null  object        \n",
      " 10  quantity_0           30075 non-null  float64       \n",
      " 11  quantity_1           30075 non-null  float64       \n",
      " 12  quantity_2           30075 non-null  float64       \n",
      " 13  quantity_3           30075 non-null  float64       \n",
      " 14  quantity_4           30075 non-null  float64       \n",
      " 15  item_variant_0       30075 non-null  object        \n",
      " 16  item_variant_1       30075 non-null  object        \n",
      " 17  item_variant_2       30075 non-null  object        \n",
      " 18  item_variant_3       30075 non-null  object        \n",
      " 19  item_variant_4       30075 non-null  object        \n",
      " 20  price_0              30075 non-null  float64       \n",
      " 21  price_1              30075 non-null  float64       \n",
      " 22  price_2              30075 non-null  float64       \n",
      " 23  price_3              30075 non-null  float64       \n",
      " 24  price_4              30075 non-null  float64       \n",
      " 25  source_name          29929 non-null  object        \n",
      " 26  source_medium        29991 non-null  object        \n",
      " 27  source_origin        29989 non-null  object        \n",
      " 28  rw                   30075 non-null  int64         \n",
      " 29  cleaned_city         30075 non-null  object        \n",
      "dtypes: datetime64[ns](1), float64(11), int64(2), object(16)\n",
      "memory usage: 6.9+ MB\n"
     ]
    }
   ],
   "source": [
    "df.info()"
   ]
  },
  {
   "cell_type": "markdown",
   "id": "aa10b89c",
   "metadata": {},
   "source": [
    "### Question and Answer"
   ]
  },
  {
   "cell_type": "markdown",
   "id": "e5d006e9",
   "metadata": {},
   "source": [
    "### Which Pincode Generates the Highest Sales ?"
   ]
  },
  {
   "cell_type": "code",
   "execution_count": 8,
   "id": "8418501d",
   "metadata": {},
   "outputs": [
    {
     "data": {
      "application/vnd.plotly.v1+json": {
       "config": {
        "plotlyServerURL": "https://plot.ly"
       },
       "data": [
        {
         "hovertemplate": "Pincode=%{x}<br>Total Sales=%{marker.color}<br>text=%{text}<extra></extra>",
         "legendgroup": "",
         "marker": {
          "color": {
           "bdata": "AAAAgHcaQUHzg4BzgF5AQQAAAACy4D9BAAAAABOYP0HmBwHnuvk+QQAAAADJYjtBAAAAAEIUO0EAAAAAHFE6QeYHAef9TjhBzA8Cztf/NkE=",
           "dtype": "f8"
          },
          "coloraxis": "coloraxis",
          "line": {
           "color": "black",
           "width": 1.5
          },
          "pattern": {
           "shape": ""
          }
         },
         "name": "",
         "orientation": "v",
         "showlegend": false,
         "text": {
          "bdata": "AAAAAACEoUAAAAAAAMSgQAAAAAAAUqBAAAAAAAAuoEAAAAAAALifQAAAAAAADJxAAAAAAAC8m0AAAAAAAPSaQAAAAAAA5JhAAAAAAACMl0A=",
          "dtype": "f8"
         },
         "textposition": "outside",
         "texttemplate": "%{text}k",
         "type": "bar",
         "x": [
          "560037",
          "560076",
          "560102",
          "560043",
          "560103",
          "560064",
          "560066",
          "560068",
          "560078",
          "560048"
         ],
         "xaxis": "x",
         "y": {
          "bdata": "AAAAgHcaQUHzg4BzgF5AQQAAAACy4D9BAAAAABOYP0HmBwHnuvk+QQAAAADJYjtBAAAAAEIUO0EAAAAAHFE6QeYHAef9TjhBzA8Cztf/NkE=",
          "dtype": "f8"
         },
         "yaxis": "y"
        }
       ],
       "layout": {
        "annotations": [
         {
          "align": "left",
          "bgcolor": "white",
          "bordercolor": "#91770A",
          "borderpad": 14,
          "borderwidth": 2,
          "font": {
           "color": "#C4AB41",
           "family": "Arial",
           "size": 25,
           "weight": "bold"
          },
          "showarrow": false,
          "text": "Highest Sales By Pincode",
          "width": 570,
          "x": 0.5,
          "xref": "paper",
          "y": 1.17,
          "yref": "paper"
         }
        ],
        "barmode": "relative",
        "coloraxis": {
         "colorbar": {
          "title": {
           "text": "Total Sales"
          }
         },
         "colorscale": [
          [
           0,
           "rgb(247,252,240)"
          ],
          [
           0.125,
           "rgb(224,243,219)"
          ],
          [
           0.25,
           "rgb(204,235,197)"
          ],
          [
           0.375,
           "rgb(168,221,181)"
          ],
          [
           0.5,
           "rgb(123,204,196)"
          ],
          [
           0.625,
           "rgb(78,179,211)"
          ],
          [
           0.75,
           "rgb(43,140,190)"
          ],
          [
           0.875,
           "rgb(8,104,172)"
          ],
          [
           1,
           "rgb(8,64,129)"
          ]
         ]
        },
        "height": 500,
        "legend": {
         "tracegroupgap": 0
        },
        "margin": {
         "t": 60
        },
        "template": {
         "data": {
          "bar": [
           {
            "error_x": {
             "color": "#2a3f5f"
            },
            "error_y": {
             "color": "#2a3f5f"
            },
            "marker": {
             "line": {
              "color": "#E5ECF6",
              "width": 0.5
             },
             "pattern": {
              "fillmode": "overlay",
              "size": 10,
              "solidity": 0.2
             }
            },
            "type": "bar"
           }
          ],
          "barpolar": [
           {
            "marker": {
             "line": {
              "color": "#E5ECF6",
              "width": 0.5
             },
             "pattern": {
              "fillmode": "overlay",
              "size": 10,
              "solidity": 0.2
             }
            },
            "type": "barpolar"
           }
          ],
          "carpet": [
           {
            "aaxis": {
             "endlinecolor": "#2a3f5f",
             "gridcolor": "white",
             "linecolor": "white",
             "minorgridcolor": "white",
             "startlinecolor": "#2a3f5f"
            },
            "baxis": {
             "endlinecolor": "#2a3f5f",
             "gridcolor": "white",
             "linecolor": "white",
             "minorgridcolor": "white",
             "startlinecolor": "#2a3f5f"
            },
            "type": "carpet"
           }
          ],
          "choropleth": [
           {
            "colorbar": {
             "outlinewidth": 0,
             "ticks": ""
            },
            "type": "choropleth"
           }
          ],
          "contour": [
           {
            "colorbar": {
             "outlinewidth": 0,
             "ticks": ""
            },
            "colorscale": [
             [
              0,
              "#0d0887"
             ],
             [
              0.1111111111111111,
              "#46039f"
             ],
             [
              0.2222222222222222,
              "#7201a8"
             ],
             [
              0.3333333333333333,
              "#9c179e"
             ],
             [
              0.4444444444444444,
              "#bd3786"
             ],
             [
              0.5555555555555556,
              "#d8576b"
             ],
             [
              0.6666666666666666,
              "#ed7953"
             ],
             [
              0.7777777777777778,
              "#fb9f3a"
             ],
             [
              0.8888888888888888,
              "#fdca26"
             ],
             [
              1,
              "#f0f921"
             ]
            ],
            "type": "contour"
           }
          ],
          "contourcarpet": [
           {
            "colorbar": {
             "outlinewidth": 0,
             "ticks": ""
            },
            "type": "contourcarpet"
           }
          ],
          "heatmap": [
           {
            "colorbar": {
             "outlinewidth": 0,
             "ticks": ""
            },
            "colorscale": [
             [
              0,
              "#0d0887"
             ],
             [
              0.1111111111111111,
              "#46039f"
             ],
             [
              0.2222222222222222,
              "#7201a8"
             ],
             [
              0.3333333333333333,
              "#9c179e"
             ],
             [
              0.4444444444444444,
              "#bd3786"
             ],
             [
              0.5555555555555556,
              "#d8576b"
             ],
             [
              0.6666666666666666,
              "#ed7953"
             ],
             [
              0.7777777777777778,
              "#fb9f3a"
             ],
             [
              0.8888888888888888,
              "#fdca26"
             ],
             [
              1,
              "#f0f921"
             ]
            ],
            "type": "heatmap"
           }
          ],
          "histogram": [
           {
            "marker": {
             "pattern": {
              "fillmode": "overlay",
              "size": 10,
              "solidity": 0.2
             }
            },
            "type": "histogram"
           }
          ],
          "histogram2d": [
           {
            "colorbar": {
             "outlinewidth": 0,
             "ticks": ""
            },
            "colorscale": [
             [
              0,
              "#0d0887"
             ],
             [
              0.1111111111111111,
              "#46039f"
             ],
             [
              0.2222222222222222,
              "#7201a8"
             ],
             [
              0.3333333333333333,
              "#9c179e"
             ],
             [
              0.4444444444444444,
              "#bd3786"
             ],
             [
              0.5555555555555556,
              "#d8576b"
             ],
             [
              0.6666666666666666,
              "#ed7953"
             ],
             [
              0.7777777777777778,
              "#fb9f3a"
             ],
             [
              0.8888888888888888,
              "#fdca26"
             ],
             [
              1,
              "#f0f921"
             ]
            ],
            "type": "histogram2d"
           }
          ],
          "histogram2dcontour": [
           {
            "colorbar": {
             "outlinewidth": 0,
             "ticks": ""
            },
            "colorscale": [
             [
              0,
              "#0d0887"
             ],
             [
              0.1111111111111111,
              "#46039f"
             ],
             [
              0.2222222222222222,
              "#7201a8"
             ],
             [
              0.3333333333333333,
              "#9c179e"
             ],
             [
              0.4444444444444444,
              "#bd3786"
             ],
             [
              0.5555555555555556,
              "#d8576b"
             ],
             [
              0.6666666666666666,
              "#ed7953"
             ],
             [
              0.7777777777777778,
              "#fb9f3a"
             ],
             [
              0.8888888888888888,
              "#fdca26"
             ],
             [
              1,
              "#f0f921"
             ]
            ],
            "type": "histogram2dcontour"
           }
          ],
          "mesh3d": [
           {
            "colorbar": {
             "outlinewidth": 0,
             "ticks": ""
            },
            "type": "mesh3d"
           }
          ],
          "parcoords": [
           {
            "line": {
             "colorbar": {
              "outlinewidth": 0,
              "ticks": ""
             }
            },
            "type": "parcoords"
           }
          ],
          "pie": [
           {
            "automargin": true,
            "type": "pie"
           }
          ],
          "scatter": [
           {
            "fillpattern": {
             "fillmode": "overlay",
             "size": 10,
             "solidity": 0.2
            },
            "type": "scatter"
           }
          ],
          "scatter3d": [
           {
            "line": {
             "colorbar": {
              "outlinewidth": 0,
              "ticks": ""
             }
            },
            "marker": {
             "colorbar": {
              "outlinewidth": 0,
              "ticks": ""
             }
            },
            "type": "scatter3d"
           }
          ],
          "scattercarpet": [
           {
            "marker": {
             "colorbar": {
              "outlinewidth": 0,
              "ticks": ""
             }
            },
            "type": "scattercarpet"
           }
          ],
          "scattergeo": [
           {
            "marker": {
             "colorbar": {
              "outlinewidth": 0,
              "ticks": ""
             }
            },
            "type": "scattergeo"
           }
          ],
          "scattergl": [
           {
            "marker": {
             "colorbar": {
              "outlinewidth": 0,
              "ticks": ""
             }
            },
            "type": "scattergl"
           }
          ],
          "scattermap": [
           {
            "marker": {
             "colorbar": {
              "outlinewidth": 0,
              "ticks": ""
             }
            },
            "type": "scattermap"
           }
          ],
          "scattermapbox": [
           {
            "marker": {
             "colorbar": {
              "outlinewidth": 0,
              "ticks": ""
             }
            },
            "type": "scattermapbox"
           }
          ],
          "scatterpolar": [
           {
            "marker": {
             "colorbar": {
              "outlinewidth": 0,
              "ticks": ""
             }
            },
            "type": "scatterpolar"
           }
          ],
          "scatterpolargl": [
           {
            "marker": {
             "colorbar": {
              "outlinewidth": 0,
              "ticks": ""
             }
            },
            "type": "scatterpolargl"
           }
          ],
          "scatterternary": [
           {
            "marker": {
             "colorbar": {
              "outlinewidth": 0,
              "ticks": ""
             }
            },
            "type": "scatterternary"
           }
          ],
          "surface": [
           {
            "colorbar": {
             "outlinewidth": 0,
             "ticks": ""
            },
            "colorscale": [
             [
              0,
              "#0d0887"
             ],
             [
              0.1111111111111111,
              "#46039f"
             ],
             [
              0.2222222222222222,
              "#7201a8"
             ],
             [
              0.3333333333333333,
              "#9c179e"
             ],
             [
              0.4444444444444444,
              "#bd3786"
             ],
             [
              0.5555555555555556,
              "#d8576b"
             ],
             [
              0.6666666666666666,
              "#ed7953"
             ],
             [
              0.7777777777777778,
              "#fb9f3a"
             ],
             [
              0.8888888888888888,
              "#fdca26"
             ],
             [
              1,
              "#f0f921"
             ]
            ],
            "type": "surface"
           }
          ],
          "table": [
           {
            "cells": {
             "fill": {
              "color": "#EBF0F8"
             },
             "line": {
              "color": "white"
             }
            },
            "header": {
             "fill": {
              "color": "#C8D4E3"
             },
             "line": {
              "color": "white"
             }
            },
            "type": "table"
           }
          ]
         },
         "layout": {
          "annotationdefaults": {
           "arrowcolor": "#2a3f5f",
           "arrowhead": 0,
           "arrowwidth": 1
          },
          "autotypenumbers": "strict",
          "coloraxis": {
           "colorbar": {
            "outlinewidth": 0,
            "ticks": ""
           }
          },
          "colorscale": {
           "diverging": [
            [
             0,
             "#8e0152"
            ],
            [
             0.1,
             "#c51b7d"
            ],
            [
             0.2,
             "#de77ae"
            ],
            [
             0.3,
             "#f1b6da"
            ],
            [
             0.4,
             "#fde0ef"
            ],
            [
             0.5,
             "#f7f7f7"
            ],
            [
             0.6,
             "#e6f5d0"
            ],
            [
             0.7,
             "#b8e186"
            ],
            [
             0.8,
             "#7fbc41"
            ],
            [
             0.9,
             "#4d9221"
            ],
            [
             1,
             "#276419"
            ]
           ],
           "sequential": [
            [
             0,
             "#0d0887"
            ],
            [
             0.1111111111111111,
             "#46039f"
            ],
            [
             0.2222222222222222,
             "#7201a8"
            ],
            [
             0.3333333333333333,
             "#9c179e"
            ],
            [
             0.4444444444444444,
             "#bd3786"
            ],
            [
             0.5555555555555556,
             "#d8576b"
            ],
            [
             0.6666666666666666,
             "#ed7953"
            ],
            [
             0.7777777777777778,
             "#fb9f3a"
            ],
            [
             0.8888888888888888,
             "#fdca26"
            ],
            [
             1,
             "#f0f921"
            ]
           ],
           "sequentialminus": [
            [
             0,
             "#0d0887"
            ],
            [
             0.1111111111111111,
             "#46039f"
            ],
            [
             0.2222222222222222,
             "#7201a8"
            ],
            [
             0.3333333333333333,
             "#9c179e"
            ],
            [
             0.4444444444444444,
             "#bd3786"
            ],
            [
             0.5555555555555556,
             "#d8576b"
            ],
            [
             0.6666666666666666,
             "#ed7953"
            ],
            [
             0.7777777777777778,
             "#fb9f3a"
            ],
            [
             0.8888888888888888,
             "#fdca26"
            ],
            [
             1,
             "#f0f921"
            ]
           ]
          },
          "colorway": [
           "#636efa",
           "#EF553B",
           "#00cc96",
           "#ab63fa",
           "#FFA15A",
           "#19d3f3",
           "#FF6692",
           "#B6E880",
           "#FF97FF",
           "#FECB52"
          ],
          "font": {
           "color": "#2a3f5f"
          },
          "geo": {
           "bgcolor": "white",
           "lakecolor": "white",
           "landcolor": "#E5ECF6",
           "showlakes": true,
           "showland": true,
           "subunitcolor": "white"
          },
          "hoverlabel": {
           "align": "left"
          },
          "hovermode": "closest",
          "mapbox": {
           "style": "light"
          },
          "paper_bgcolor": "white",
          "plot_bgcolor": "#E5ECF6",
          "polar": {
           "angularaxis": {
            "gridcolor": "white",
            "linecolor": "white",
            "ticks": ""
           },
           "bgcolor": "#E5ECF6",
           "radialaxis": {
            "gridcolor": "white",
            "linecolor": "white",
            "ticks": ""
           }
          },
          "scene": {
           "xaxis": {
            "backgroundcolor": "#E5ECF6",
            "gridcolor": "white",
            "gridwidth": 2,
            "linecolor": "white",
            "showbackground": true,
            "ticks": "",
            "zerolinecolor": "white"
           },
           "yaxis": {
            "backgroundcolor": "#E5ECF6",
            "gridcolor": "white",
            "gridwidth": 2,
            "linecolor": "white",
            "showbackground": true,
            "ticks": "",
            "zerolinecolor": "white"
           },
           "zaxis": {
            "backgroundcolor": "#E5ECF6",
            "gridcolor": "white",
            "gridwidth": 2,
            "linecolor": "white",
            "showbackground": true,
            "ticks": "",
            "zerolinecolor": "white"
           }
          },
          "shapedefaults": {
           "line": {
            "color": "#2a3f5f"
           }
          },
          "ternary": {
           "aaxis": {
            "gridcolor": "white",
            "linecolor": "white",
            "ticks": ""
           },
           "baxis": {
            "gridcolor": "white",
            "linecolor": "white",
            "ticks": ""
           },
           "bgcolor": "#E5ECF6",
           "caxis": {
            "gridcolor": "white",
            "linecolor": "white",
            "ticks": ""
           }
          },
          "title": {
           "x": 0.05
          },
          "xaxis": {
           "automargin": true,
           "gridcolor": "white",
           "linecolor": "white",
           "ticks": "",
           "title": {
            "standoff": 15
           },
           "zerolinecolor": "white",
           "zerolinewidth": 2
          },
          "yaxis": {
           "automargin": true,
           "gridcolor": "white",
           "linecolor": "white",
           "ticks": "",
           "title": {
            "standoff": 15
           },
           "zerolinecolor": "white",
           "zerolinewidth": 2
          }
         }
        },
        "width": 800,
        "xaxis": {
         "anchor": "y",
         "domain": [
          0,
          1
         ],
         "title": {
          "text": "Pincode"
         }
        },
        "yaxis": {
         "anchor": "x",
         "domain": [
          0,
          1
         ],
         "title": {
          "text": "Total Sales"
         }
        }
       }
      }
     },
     "metadata": {},
     "output_type": "display_data"
    }
   ],
   "source": [
    "pin = df.groupby(\"pincode\")[\"subtotal\"].sum().reset_index().sort_values(by = \"subtotal\", ascending = False).nlargest(10, \"subtotal\")\n",
    "pin[\"pincode\"] = pin[\"pincode\"].astype(str)\n",
    "fig = px.bar(pin, x = \"pincode\", y = \"subtotal\", text = round(pin[\"subtotal\"]/1000), labels = {\"pincode\":\"Pincode\", \"subtotal\": \"Total Sales\"},color = \"subtotal\", color_continuous_scale=\"GnBu\")\n",
    "fig.update_traces(\n",
    "    marker_line_color = \"black\",\n",
    "    marker_line_width = 1.5,\n",
    "    texttemplate = \"%{text}k\",\n",
    "    textposition = \"outside\"\n",
    ")\n",
    "fig.update_layout(\n",
    "    height= 500,\n",
    "    width = 800,\n",
    "    annotations=[\n",
    "        dict(\n",
    "            text=\"Highest Sales By Pincode\",\n",
    "            x=0.5,\n",
    "            y=1.17,\n",
    "            xref=\"paper\",\n",
    "            yref=\"paper\",\n",
    "            font=dict(size=25, family=\"Arial\", color=\"#C4AB41\",weight = \"bold\"),\n",
    "            showarrow=False,\n",
    "            bgcolor=\"white\",\n",
    "            bordercolor=\"#91770A\", \n",
    "            borderwidth=2,\n",
    "            borderpad=14,\n",
    "            width = 570,\n",
    "            align = \"left\",\n",
    "            \n",
    "        )]\n",
    ")\n",
    "fig.show()\n"
   ]
  },
  {
   "cell_type": "markdown",
   "id": "3991e934",
   "metadata": {},
   "source": [
    "### Average Order value at different location"
   ]
  },
  {
   "cell_type": "code",
   "execution_count": 9,
   "id": "02f02be9",
   "metadata": {},
   "outputs": [
    {
     "data": {
      "application/vnd.plotly.v1+json": {
       "config": {
        "plotlyServerURL": "https://plot.ly"
       },
       "data": [
        {
         "hovertemplate": "City=%{x}<br>Average Order Value=%{marker.color}<br>text=%{text}<extra></extra>",
         "legendgroup": "",
         "marker": {
          "color": {
           "bdata": "AAAAAAAtoECamZmZmXeeQAAAAAAACJ1Ayz2NsNynm0CDosO5iF6bQDMzMzMzK5pAq6qqqqocmUAAAAAAgCyXQAAAAAAAeJZAq6qqqqpelkAAAAAAABiVQJIkSZIkhZNA",
           "dtype": "f8"
          },
          "coloraxis": "coloraxis",
          "line": {
           "color": "black",
           "width": 2
          },
          "pattern": {
           "shape": ""
          }
         },
         "name": "",
         "orientation": "v",
         "showlegend": false,
         "text": {
          "bdata": "qvHSTWKQAEDDhqdXyjL/P+58PzVeuv0/V5e5XMdR/D/7k/3esAb8P+pztRX7y/o/6t8IZfS2+T97FK5H4br3PzVeukkMAvc/6LSBThvo9j+amZmZmZn1P2p5YwQT/fM/",
          "dtype": "f8"
         },
         "textposition": "outside",
         "texttemplate": "%{text:.2f}k",
         "type": "bar",
         "x": [
          "chennai",
          "electronic city",
          "yelahanka",
          "mumbai",
          "bangalore",
          "koramangala",
          "karnataka",
          "whitefield",
          "bellandur",
          "pune",
          "new delhi",
          "hyderabad"
         ],
         "xaxis": "x",
         "y": {
          "bdata": "AAAAAAAtoECamZmZmXeeQAAAAAAACJ1Ayz2NsNynm0CDosO5iF6bQDMzMzMzK5pAq6qqqqocmUAAAAAAgCyXQAAAAAAAeJZAq6qqqqpelkAAAAAAABiVQJIkSZIkhZNA",
          "dtype": "f8"
         },
         "yaxis": "y"
        }
       ],
       "layout": {
        "annotations": [
         {
          "align": "left",
          "bgcolor": "white",
          "bordercolor": "#91770A",
          "borderpad": 14,
          "borderwidth": 2,
          "font": {
           "color": "#C4AB41",
           "family": "Arial",
           "size": 25,
           "weight": "bold"
          },
          "showarrow": false,
          "text": "Average Order Value",
          "width": 600,
          "x": 0.5,
          "xref": "paper",
          "y": 1.17,
          "yref": "paper"
         }
        ],
        "barmode": "relative",
        "coloraxis": {
         "colorbar": {
          "title": {
           "text": "Average Order Value"
          }
         },
         "colorscale": [
          [
           0,
           "rgb(247,251,255)"
          ],
          [
           0.125,
           "rgb(222,235,247)"
          ],
          [
           0.25,
           "rgb(198,219,239)"
          ],
          [
           0.375,
           "rgb(158,202,225)"
          ],
          [
           0.5,
           "rgb(107,174,214)"
          ],
          [
           0.625,
           "rgb(66,146,198)"
          ],
          [
           0.75,
           "rgb(33,113,181)"
          ],
          [
           0.875,
           "rgb(8,81,156)"
          ],
          [
           1,
           "rgb(8,48,107)"
          ]
         ]
        },
        "height": 500,
        "legend": {
         "tracegroupgap": 0
        },
        "margin": {
         "t": 60
        },
        "template": {
         "data": {
          "bar": [
           {
            "error_x": {
             "color": "#2a3f5f"
            },
            "error_y": {
             "color": "#2a3f5f"
            },
            "marker": {
             "line": {
              "color": "#E5ECF6",
              "width": 0.5
             },
             "pattern": {
              "fillmode": "overlay",
              "size": 10,
              "solidity": 0.2
             }
            },
            "type": "bar"
           }
          ],
          "barpolar": [
           {
            "marker": {
             "line": {
              "color": "#E5ECF6",
              "width": 0.5
             },
             "pattern": {
              "fillmode": "overlay",
              "size": 10,
              "solidity": 0.2
             }
            },
            "type": "barpolar"
           }
          ],
          "carpet": [
           {
            "aaxis": {
             "endlinecolor": "#2a3f5f",
             "gridcolor": "white",
             "linecolor": "white",
             "minorgridcolor": "white",
             "startlinecolor": "#2a3f5f"
            },
            "baxis": {
             "endlinecolor": "#2a3f5f",
             "gridcolor": "white",
             "linecolor": "white",
             "minorgridcolor": "white",
             "startlinecolor": "#2a3f5f"
            },
            "type": "carpet"
           }
          ],
          "choropleth": [
           {
            "colorbar": {
             "outlinewidth": 0,
             "ticks": ""
            },
            "type": "choropleth"
           }
          ],
          "contour": [
           {
            "colorbar": {
             "outlinewidth": 0,
             "ticks": ""
            },
            "colorscale": [
             [
              0,
              "#0d0887"
             ],
             [
              0.1111111111111111,
              "#46039f"
             ],
             [
              0.2222222222222222,
              "#7201a8"
             ],
             [
              0.3333333333333333,
              "#9c179e"
             ],
             [
              0.4444444444444444,
              "#bd3786"
             ],
             [
              0.5555555555555556,
              "#d8576b"
             ],
             [
              0.6666666666666666,
              "#ed7953"
             ],
             [
              0.7777777777777778,
              "#fb9f3a"
             ],
             [
              0.8888888888888888,
              "#fdca26"
             ],
             [
              1,
              "#f0f921"
             ]
            ],
            "type": "contour"
           }
          ],
          "contourcarpet": [
           {
            "colorbar": {
             "outlinewidth": 0,
             "ticks": ""
            },
            "type": "contourcarpet"
           }
          ],
          "heatmap": [
           {
            "colorbar": {
             "outlinewidth": 0,
             "ticks": ""
            },
            "colorscale": [
             [
              0,
              "#0d0887"
             ],
             [
              0.1111111111111111,
              "#46039f"
             ],
             [
              0.2222222222222222,
              "#7201a8"
             ],
             [
              0.3333333333333333,
              "#9c179e"
             ],
             [
              0.4444444444444444,
              "#bd3786"
             ],
             [
              0.5555555555555556,
              "#d8576b"
             ],
             [
              0.6666666666666666,
              "#ed7953"
             ],
             [
              0.7777777777777778,
              "#fb9f3a"
             ],
             [
              0.8888888888888888,
              "#fdca26"
             ],
             [
              1,
              "#f0f921"
             ]
            ],
            "type": "heatmap"
           }
          ],
          "histogram": [
           {
            "marker": {
             "pattern": {
              "fillmode": "overlay",
              "size": 10,
              "solidity": 0.2
             }
            },
            "type": "histogram"
           }
          ],
          "histogram2d": [
           {
            "colorbar": {
             "outlinewidth": 0,
             "ticks": ""
            },
            "colorscale": [
             [
              0,
              "#0d0887"
             ],
             [
              0.1111111111111111,
              "#46039f"
             ],
             [
              0.2222222222222222,
              "#7201a8"
             ],
             [
              0.3333333333333333,
              "#9c179e"
             ],
             [
              0.4444444444444444,
              "#bd3786"
             ],
             [
              0.5555555555555556,
              "#d8576b"
             ],
             [
              0.6666666666666666,
              "#ed7953"
             ],
             [
              0.7777777777777778,
              "#fb9f3a"
             ],
             [
              0.8888888888888888,
              "#fdca26"
             ],
             [
              1,
              "#f0f921"
             ]
            ],
            "type": "histogram2d"
           }
          ],
          "histogram2dcontour": [
           {
            "colorbar": {
             "outlinewidth": 0,
             "ticks": ""
            },
            "colorscale": [
             [
              0,
              "#0d0887"
             ],
             [
              0.1111111111111111,
              "#46039f"
             ],
             [
              0.2222222222222222,
              "#7201a8"
             ],
             [
              0.3333333333333333,
              "#9c179e"
             ],
             [
              0.4444444444444444,
              "#bd3786"
             ],
             [
              0.5555555555555556,
              "#d8576b"
             ],
             [
              0.6666666666666666,
              "#ed7953"
             ],
             [
              0.7777777777777778,
              "#fb9f3a"
             ],
             [
              0.8888888888888888,
              "#fdca26"
             ],
             [
              1,
              "#f0f921"
             ]
            ],
            "type": "histogram2dcontour"
           }
          ],
          "mesh3d": [
           {
            "colorbar": {
             "outlinewidth": 0,
             "ticks": ""
            },
            "type": "mesh3d"
           }
          ],
          "parcoords": [
           {
            "line": {
             "colorbar": {
              "outlinewidth": 0,
              "ticks": ""
             }
            },
            "type": "parcoords"
           }
          ],
          "pie": [
           {
            "automargin": true,
            "type": "pie"
           }
          ],
          "scatter": [
           {
            "fillpattern": {
             "fillmode": "overlay",
             "size": 10,
             "solidity": 0.2
            },
            "type": "scatter"
           }
          ],
          "scatter3d": [
           {
            "line": {
             "colorbar": {
              "outlinewidth": 0,
              "ticks": ""
             }
            },
            "marker": {
             "colorbar": {
              "outlinewidth": 0,
              "ticks": ""
             }
            },
            "type": "scatter3d"
           }
          ],
          "scattercarpet": [
           {
            "marker": {
             "colorbar": {
              "outlinewidth": 0,
              "ticks": ""
             }
            },
            "type": "scattercarpet"
           }
          ],
          "scattergeo": [
           {
            "marker": {
             "colorbar": {
              "outlinewidth": 0,
              "ticks": ""
             }
            },
            "type": "scattergeo"
           }
          ],
          "scattergl": [
           {
            "marker": {
             "colorbar": {
              "outlinewidth": 0,
              "ticks": ""
             }
            },
            "type": "scattergl"
           }
          ],
          "scattermap": [
           {
            "marker": {
             "colorbar": {
              "outlinewidth": 0,
              "ticks": ""
             }
            },
            "type": "scattermap"
           }
          ],
          "scattermapbox": [
           {
            "marker": {
             "colorbar": {
              "outlinewidth": 0,
              "ticks": ""
             }
            },
            "type": "scattermapbox"
           }
          ],
          "scatterpolar": [
           {
            "marker": {
             "colorbar": {
              "outlinewidth": 0,
              "ticks": ""
             }
            },
            "type": "scatterpolar"
           }
          ],
          "scatterpolargl": [
           {
            "marker": {
             "colorbar": {
              "outlinewidth": 0,
              "ticks": ""
             }
            },
            "type": "scatterpolargl"
           }
          ],
          "scatterternary": [
           {
            "marker": {
             "colorbar": {
              "outlinewidth": 0,
              "ticks": ""
             }
            },
            "type": "scatterternary"
           }
          ],
          "surface": [
           {
            "colorbar": {
             "outlinewidth": 0,
             "ticks": ""
            },
            "colorscale": [
             [
              0,
              "#0d0887"
             ],
             [
              0.1111111111111111,
              "#46039f"
             ],
             [
              0.2222222222222222,
              "#7201a8"
             ],
             [
              0.3333333333333333,
              "#9c179e"
             ],
             [
              0.4444444444444444,
              "#bd3786"
             ],
             [
              0.5555555555555556,
              "#d8576b"
             ],
             [
              0.6666666666666666,
              "#ed7953"
             ],
             [
              0.7777777777777778,
              "#fb9f3a"
             ],
             [
              0.8888888888888888,
              "#fdca26"
             ],
             [
              1,
              "#f0f921"
             ]
            ],
            "type": "surface"
           }
          ],
          "table": [
           {
            "cells": {
             "fill": {
              "color": "#EBF0F8"
             },
             "line": {
              "color": "white"
             }
            },
            "header": {
             "fill": {
              "color": "#C8D4E3"
             },
             "line": {
              "color": "white"
             }
            },
            "type": "table"
           }
          ]
         },
         "layout": {
          "annotationdefaults": {
           "arrowcolor": "#2a3f5f",
           "arrowhead": 0,
           "arrowwidth": 1
          },
          "autotypenumbers": "strict",
          "coloraxis": {
           "colorbar": {
            "outlinewidth": 0,
            "ticks": ""
           }
          },
          "colorscale": {
           "diverging": [
            [
             0,
             "#8e0152"
            ],
            [
             0.1,
             "#c51b7d"
            ],
            [
             0.2,
             "#de77ae"
            ],
            [
             0.3,
             "#f1b6da"
            ],
            [
             0.4,
             "#fde0ef"
            ],
            [
             0.5,
             "#f7f7f7"
            ],
            [
             0.6,
             "#e6f5d0"
            ],
            [
             0.7,
             "#b8e186"
            ],
            [
             0.8,
             "#7fbc41"
            ],
            [
             0.9,
             "#4d9221"
            ],
            [
             1,
             "#276419"
            ]
           ],
           "sequential": [
            [
             0,
             "#0d0887"
            ],
            [
             0.1111111111111111,
             "#46039f"
            ],
            [
             0.2222222222222222,
             "#7201a8"
            ],
            [
             0.3333333333333333,
             "#9c179e"
            ],
            [
             0.4444444444444444,
             "#bd3786"
            ],
            [
             0.5555555555555556,
             "#d8576b"
            ],
            [
             0.6666666666666666,
             "#ed7953"
            ],
            [
             0.7777777777777778,
             "#fb9f3a"
            ],
            [
             0.8888888888888888,
             "#fdca26"
            ],
            [
             1,
             "#f0f921"
            ]
           ],
           "sequentialminus": [
            [
             0,
             "#0d0887"
            ],
            [
             0.1111111111111111,
             "#46039f"
            ],
            [
             0.2222222222222222,
             "#7201a8"
            ],
            [
             0.3333333333333333,
             "#9c179e"
            ],
            [
             0.4444444444444444,
             "#bd3786"
            ],
            [
             0.5555555555555556,
             "#d8576b"
            ],
            [
             0.6666666666666666,
             "#ed7953"
            ],
            [
             0.7777777777777778,
             "#fb9f3a"
            ],
            [
             0.8888888888888888,
             "#fdca26"
            ],
            [
             1,
             "#f0f921"
            ]
           ]
          },
          "colorway": [
           "#636efa",
           "#EF553B",
           "#00cc96",
           "#ab63fa",
           "#FFA15A",
           "#19d3f3",
           "#FF6692",
           "#B6E880",
           "#FF97FF",
           "#FECB52"
          ],
          "font": {
           "color": "#2a3f5f"
          },
          "geo": {
           "bgcolor": "white",
           "lakecolor": "white",
           "landcolor": "#E5ECF6",
           "showlakes": true,
           "showland": true,
           "subunitcolor": "white"
          },
          "hoverlabel": {
           "align": "left"
          },
          "hovermode": "closest",
          "mapbox": {
           "style": "light"
          },
          "paper_bgcolor": "white",
          "plot_bgcolor": "#E5ECF6",
          "polar": {
           "angularaxis": {
            "gridcolor": "white",
            "linecolor": "white",
            "ticks": ""
           },
           "bgcolor": "#E5ECF6",
           "radialaxis": {
            "gridcolor": "white",
            "linecolor": "white",
            "ticks": ""
           }
          },
          "scene": {
           "xaxis": {
            "backgroundcolor": "#E5ECF6",
            "gridcolor": "white",
            "gridwidth": 2,
            "linecolor": "white",
            "showbackground": true,
            "ticks": "",
            "zerolinecolor": "white"
           },
           "yaxis": {
            "backgroundcolor": "#E5ECF6",
            "gridcolor": "white",
            "gridwidth": 2,
            "linecolor": "white",
            "showbackground": true,
            "ticks": "",
            "zerolinecolor": "white"
           },
           "zaxis": {
            "backgroundcolor": "#E5ECF6",
            "gridcolor": "white",
            "gridwidth": 2,
            "linecolor": "white",
            "showbackground": true,
            "ticks": "",
            "zerolinecolor": "white"
           }
          },
          "shapedefaults": {
           "line": {
            "color": "#2a3f5f"
           }
          },
          "ternary": {
           "aaxis": {
            "gridcolor": "white",
            "linecolor": "white",
            "ticks": ""
           },
           "baxis": {
            "gridcolor": "white",
            "linecolor": "white",
            "ticks": ""
           },
           "bgcolor": "#E5ECF6",
           "caxis": {
            "gridcolor": "white",
            "linecolor": "white",
            "ticks": ""
           }
          },
          "title": {
           "x": 0.05
          },
          "xaxis": {
           "automargin": true,
           "gridcolor": "white",
           "linecolor": "white",
           "ticks": "",
           "title": {
            "standoff": 15
           },
           "zerolinecolor": "white",
           "zerolinewidth": 2
          },
          "yaxis": {
           "automargin": true,
           "gridcolor": "white",
           "linecolor": "white",
           "ticks": "",
           "title": {
            "standoff": 15
           },
           "zerolinecolor": "white",
           "zerolinewidth": 2
          }
         }
        },
        "width": 900,
        "xaxis": {
         "anchor": "y",
         "domain": [
          0,
          1
         ],
         "title": {
          "text": "City"
         }
        },
        "yaxis": {
         "anchor": "x",
         "domain": [
          0,
          1
         ],
         "title": {
          "text": "Average Order Value"
         }
        }
       }
      }
     },
     "metadata": {},
     "output_type": "display_data"
    }
   ],
   "source": [
    "count_city = df[\"cleaned_city\"].value_counts()[df[\"cleaned_city\"].value_counts() > 9].index\n",
    "newcity = df[df[\"cleaned_city\"].isin(count_city)]\n",
    "nc = newcity.groupby(\"cleaned_city\")[\"subtotal\"].mean().reset_index().sort_values(by = \"subtotal\", ascending = False)\n",
    "fig = px.bar(nc, x=\"cleaned_city\", y=\"subtotal\",text = nc[\"subtotal\"]/1000, labels = {\"cleaned_city\":\"City\",\"subtotal\":\"Average Order Value\"}, color = \"subtotal\", color_continuous_scale= \"Blues\")\n",
    "fig.update_traces(\n",
    "    marker_line_color = \"black\",\n",
    "    marker_line_width = 2,\n",
    "    texttemplate = \"%{text:.2f}k\",\n",
    "    textposition = \"outside\"\n",
    ")\n",
    "fig.update_layout(\n",
    "    height= 500,\n",
    "    width = 900,\n",
    "    annotations=[\n",
    "        dict(\n",
    "            text=\"Average Order Value\",\n",
    "            x=0.5,\n",
    "            y=1.17,\n",
    "            xref=\"paper\",\n",
    "            yref=\"paper\",\n",
    "            font=dict(size=25, family=\"Arial\", color=\"#C4AB41\",weight = \"bold\"),\n",
    "            showarrow=False,\n",
    "            bgcolor=\"white\",\n",
    "            bordercolor=\"#91770A\", \n",
    "            borderwidth=2,\n",
    "            borderpad=14,\n",
    "            width = 600,\n",
    "            align = \"left\",\n",
    "            \n",
    "        )])\n",
    "fig.show()"
   ]
  },
  {
   "cell_type": "markdown",
   "id": "18bed264",
   "metadata": {},
   "source": [
    "### What’s the trend in total orders and revenue over time (daily/weekly/monthly)?\n"
   ]
  },
  {
   "cell_type": "code",
   "execution_count": 10,
   "id": "b410a1e8",
   "metadata": {},
   "outputs": [
    {
     "data": {
      "text/html": [
       "<div>\n",
       "<style scoped>\n",
       "    .dataframe tbody tr th:only-of-type {\n",
       "        vertical-align: middle;\n",
       "    }\n",
       "\n",
       "    .dataframe tbody tr th {\n",
       "        vertical-align: top;\n",
       "    }\n",
       "\n",
       "    .dataframe thead th {\n",
       "        text-align: right;\n",
       "    }\n",
       "</style>\n",
       "<table border=\"1\" class=\"dataframe\">\n",
       "  <thead>\n",
       "    <tr style=\"text-align: right;\">\n",
       "      <th></th>\n",
       "      <th>user_pseudo_id</th>\n",
       "      <th>event_date</th>\n",
       "      <th>new_event_timestamp</th>\n",
       "      <th>pincode</th>\n",
       "      <th>subtotal</th>\n",
       "      <th>item_name_0</th>\n",
       "      <th>item_name_1</th>\n",
       "      <th>item_name_2</th>\n",
       "      <th>item_name_3</th>\n",
       "      <th>item_name_4</th>\n",
       "      <th>...</th>\n",
       "      <th>price_0</th>\n",
       "      <th>price_1</th>\n",
       "      <th>price_2</th>\n",
       "      <th>price_3</th>\n",
       "      <th>price_4</th>\n",
       "      <th>source_name</th>\n",
       "      <th>source_medium</th>\n",
       "      <th>source_origin</th>\n",
       "      <th>rw</th>\n",
       "      <th>cleaned_city</th>\n",
       "    </tr>\n",
       "  </thead>\n",
       "  <tbody>\n",
       "    <tr>\n",
       "      <th>0</th>\n",
       "      <td>1834626185.1753107144</td>\n",
       "      <td>2025-07-21</td>\n",
       "      <td>2025-07-21 14:18:19.740850</td>\n",
       "      <td>560102</td>\n",
       "      <td>620</td>\n",
       "      <td>Almond And Milk Chocolate Brunette</td>\n",
       "      <td>0</td>\n",
       "      <td>0</td>\n",
       "      <td>0</td>\n",
       "      <td>0</td>\n",
       "      <td>...</td>\n",
       "      <td>620</td>\n",
       "      <td>0</td>\n",
       "      <td>0</td>\n",
       "      <td>0</td>\n",
       "      <td>0</td>\n",
       "      <td>DAM-Search-Branding-Bofu-Phrase_Broad_Exact_12...</td>\n",
       "      <td>cpc</td>\n",
       "      <td>google</td>\n",
       "      <td>1</td>\n",
       "      <td>bangalore</td>\n",
       "    </tr>\n",
       "  </tbody>\n",
       "</table>\n",
       "<p>1 rows × 30 columns</p>\n",
       "</div>"
      ],
      "text/plain": [
       "          user_pseudo_id event_date         new_event_timestamp  pincode  \\\n",
       "0  1834626185.1753107144 2025-07-21  2025-07-21 14:18:19.740850   560102   \n",
       "\n",
       "   subtotal                         item_name_0 item_name_1 item_name_2  \\\n",
       "0       620  Almond And Milk Chocolate Brunette           0           0   \n",
       "\n",
       "  item_name_3 item_name_4  ...  price_0  price_1  price_2  price_3  price_4  \\\n",
       "0           0           0  ...      620        0        0        0        0   \n",
       "\n",
       "                                         source_name source_medium  \\\n",
       "0  DAM-Search-Branding-Bofu-Phrase_Broad_Exact_12...           cpc   \n",
       "\n",
       "  source_origin rw cleaned_city  \n",
       "0        google  1    bangalore  \n",
       "\n",
       "[1 rows x 30 columns]"
      ]
     },
     "execution_count": 10,
     "metadata": {},
     "output_type": "execute_result"
    }
   ],
   "source": [
    "df.head(1)"
   ]
  },
  {
   "cell_type": "code",
   "execution_count": 11,
   "id": "c511621c",
   "metadata": {},
   "outputs": [
    {
     "data": {
      "image/png": "[encoded data removed]",
      "text/plain": [
       "<Figure size 1200x600 with 2 Axes>"
      ]
     },
     "metadata": {},
     "output_type": "display_data"
    }
   ],
   "source": [
    "trends = df.groupby(df[\"event_date\"].dt.date).agg({\n",
    "    \"user_pseudo_id\": 'count',\n",
    "    \"subtotal\": 'sum'\n",
    "}).rename(columns = {\"user_pseudo_id\":\"total_purchase\"}).reset_index()\n",
    "\n",
    "fig, ax1 = plt.subplots(figsize=(12, 6))\n",
    "#first axis\n",
    "ax1.plot(trends[\"event_date\"], trends[\"subtotal\"], color = \"red\", label = \"Subtotal\")\n",
    "ax1.set_xlabel(\"Date\")\n",
    "ax1.set_ylabel(\"Subtotal\")\n",
    "\n",
    "ax2 = ax1.twinx()\n",
    "ax2.plot(trends[\"event_date\"], trends[\"total_purchase\"], color = \"blue\", label = \"Total Purchase\")\n",
    "ax2.set_ylabel(\"Total Purchase\")\n",
    "plt.title('Daily Total Purchases & Revenue Over Time')\n",
    "lines1, labels1 = ax1.get_legend_handles_labels() \n",
    "lines2, labels2 = ax2.get_legend_handles_labels() \n",
    "ax1.legend(lines1 + lines2, labels1 + labels2, loc='upper right')\n",
    "plt.tight_layout()\n",
    "plt.show()"
   ]
  },
  {
   "cell_type": "markdown",
   "id": "18e0a397",
   "metadata": {},
   "source": [
    "### Top seller product by Revenue and Quantity"
   ]
  },
  {
   "cell_type": "code",
   "execution_count": 12,
   "id": "c56b2386",
   "metadata": {},
   "outputs": [
    {
     "name": "stderr",
     "output_type": "stream",
     "text": [
      "<>:33: SyntaxWarning:\n",
      "\n",
      "invalid escape sequence '\\d'\n",
      "\n",
      "<>:34: SyntaxWarning:\n",
      "\n",
      "invalid escape sequence '\\d'\n",
      "\n",
      "<>:35: SyntaxWarning:\n",
      "\n",
      "invalid escape sequence '\\d'\n",
      "\n",
      "<>:36: SyntaxWarning:\n",
      "\n",
      "invalid escape sequence '\\d'\n",
      "\n",
      "<>:33: SyntaxWarning:\n",
      "\n",
      "invalid escape sequence '\\d'\n",
      "\n",
      "<>:34: SyntaxWarning:\n",
      "\n",
      "invalid escape sequence '\\d'\n",
      "\n",
      "<>:35: SyntaxWarning:\n",
      "\n",
      "invalid escape sequence '\\d'\n",
      "\n",
      "<>:36: SyntaxWarning:\n",
      "\n",
      "invalid escape sequence '\\d'\n",
      "\n",
      "C:\\Users\\nikhi\\AppData\\Local\\Temp\\ipykernel_12872\\132635173.py:33: SyntaxWarning:\n",
      "\n",
      "invalid escape sequence '\\d'\n",
      "\n",
      "C:\\Users\\nikhi\\AppData\\Local\\Temp\\ipykernel_12872\\132635173.py:34: SyntaxWarning:\n",
      "\n",
      "invalid escape sequence '\\d'\n",
      "\n",
      "C:\\Users\\nikhi\\AppData\\Local\\Temp\\ipykernel_12872\\132635173.py:35: SyntaxWarning:\n",
      "\n",
      "invalid escape sequence '\\d'\n",
      "\n",
      "C:\\Users\\nikhi\\AppData\\Local\\Temp\\ipykernel_12872\\132635173.py:36: SyntaxWarning:\n",
      "\n",
      "invalid escape sequence '\\d'\n",
      "\n"
     ]
    }
   ],
   "source": [
    "id_vars = [\n",
    "    \"user_pseudo_id\", \"event_date\", \"new_event_timestamp\", \"pincode\",\n",
    "    \"subtotal\", \"source_name\", \"source_medium\", \"source_origin\",\n",
    "    \"rw\", \"cleaned_city\"\n",
    "]\n",
    "item_name = df.melt(\n",
    "    id_vars = id_vars,\n",
    "    value_vars = [\"item_name_0\",\"item_name_1\",\"item_name_2\",\"item_name_3\",\"item_name_4\"],\n",
    "    value_name = \"Product_name\",\n",
    "    var_name = \"in\"\n",
    ")\n",
    "item_price = df.melt(\n",
    "    id_vars= id_vars,\n",
    "    value_vars = [\"price_0\",\"price_1\",\"price_2\",\"price_3\",\"price_4\"],\n",
    "    value_name = \"Price\",\n",
    "    var_name = \"ip\"\n",
    ")\n",
    "item_quantity = df.melt(\n",
    "    id_vars = id_vars,\n",
    "    value_vars = [\"quantity_0\",\"quantity_1\",\"quantity_2\",\"quantity_3\",\"quantity_4\"],\n",
    "    value_name = \"Quantity\",\n",
    "    var_name = \"iq\"\n",
    "\n",
    ")\n",
    "item_variant = df.melt(\n",
    "    id_vars = id_vars,\n",
    "    value_vars = [\"item_variant_0\",\"item_variant_1\",\"item_variant_2\",\"item_variant_3\",\"item_variant_4\"],\n",
    "    value_name = \"Item_variant\",\n",
    "    var_name = \"iv\"\n",
    "\n",
    ")\n",
    "\n",
    "item_name[\"product_no\"]    = item_name[\"in\"].str.extract(\"(\\d+)\")\n",
    "item_price[\"product_no\"]   = item_price[\"ip\"].str.extract(\"(\\d+)\")\n",
    "item_quantity[\"product_no\"]= item_quantity[\"iq\"].str.extract(\"(\\d+)\")\n",
    "item_variant[\"product_no\"] = item_variant[\"iv\"].str.extract(\"(\\d+)\")\n",
    "\n",
    "\n",
    "item_name    = item_name.drop(columns=[\"in\"])\n",
    "item_price   = item_price.drop(columns=[\"ip\"])\n",
    "item_quantity= item_quantity.drop(columns=[\"iq\"])\n",
    "item_variant = item_variant.drop(columns=[\"iv\"])\n",
    "\n",
    "\n",
    "merged = (\n",
    "    item_name\n",
    "    .merge(item_price, on=id_vars + [\"product_no\"])\n",
    "    .merge(item_quantity, on=id_vars + [\"product_no\"])\n",
    "    .merge(item_variant, on=id_vars + [\"product_no\"])\n",
    ")\n",
    "\n",
    "  \n",
    "merged[\"Revenue\"] = merged[\"Price\"] * merged[\"Quantity\"]\n"
   ]
  },
  {
   "cell_type": "code",
   "execution_count": 13,
   "id": "a0b8a491",
   "metadata": {},
   "outputs": [
    {
     "data": {
      "application/vnd.plotly.v1+json": {
       "config": {
        "plotlyServerURL": "https://plot.ly"
       },
       "data": [
        {
         "alignmentgroup": "True",
         "hovertemplate": "Metric=Revenue<br>Product_name=%{x}<br>Value=%{y}<extra></extra>",
         "legendgroup": "Revenue",
         "marker": {
          "color": "#636efa",
          "pattern": {
           "shape": ""
          }
         },
         "name": "Revenue",
         "offsetgroup": "Revenue",
         "orientation": "v",
         "showlegend": true,
         "textposition": "auto",
         "type": "bar",
         "x": [
          "Tres Leches Dapper",
          "Ferrero Rocher Cake",
          "Pineapple, Lychee and Cherry Cake",
          "Lotus Biscoff Pull Up  Cake",
          "Mango Tres leches Dapper",
          "Mango Cheesecake (Eggless)",
          "Tiramisu Cake",
          "Hazelnut Chocolate Truffle Cake (Eggless)",
          "Mango pull up cake (eggless)",
          "Pineapple, Lychee and Cherry Cake (Eggless)",
          "Belgian Dark Chocolate Truffle cake (Eggless)",
          "Matilda cake",
          "Saffron Rasmalai Cake (Eggless)",
          "Nutella and Fresh Strawberry Entremet",
          "Mango Tres Leches Dapper (Eggless)",
          "Lotus Biscoff Pull Up  Cake (Eggless)",
          "Coffee pecan praline cake",
          "Tres Leches Dapper (Eggless)",
          "Sugar-Free Belgian Chocolate Truffle cake (Eggless)",
          "Hazelnut Milk Chocolate Entremet",
          "Mango and Cashew entremet",
          "Classic Black Forest Cake",
          "Intense chocolate and caramel cake",
          "Deep Chocolate Pull Up  Cake",
          "Black Satin Entremet (Chocolate Mousse Cake)",
          "White chocolate Raspberry",
          "Blueberry Cheesecake (Eggless)",
          "Fresh strawberry and cream cake",
          "Double Chocolate with Caramelised Pistachio (Eggless)",
          "Croissants",
          "Burnt basque cheesecake",
          "Roasted Walnut and Caramel",
          "Nutella pull up cake",
          "Banoffee Cake",
          "Cookie Dough Cake",
          "Strawberry Pull up (Eggless)",
          "Mango pull up cake",
          "Pineapple, Lychee And Cherry Cake",
          "Lotus Biscoff Pull Up Cake",
          "Opera",
          "Nutella Brownie",
          "Hamper : Luxurious (Eggless)",
          "Fresh Strawberry Cheesecake (Eggless)",
          "Matilda Cake",
          "Chocolate Fudge Brownie",
          "Pineapple, Lychee And Cherry Cake (Eggless)",
          "Coffee Pecan Praline Cake",
          "Cookie Dough Cake (Eggless)",
          "Pistachio Blondie (Eggless)",
          "White Chocolate Raspberry",
          "Box of 4",
          "Date, Palm and Walnut Cake (Vegan)",
          "Deep Chocolate Pull Up Cake",
          "Peaches & Cream",
          "Lotus Biscoff Pull Up Cake (Eggless)",
          "Pineapple, Lychee And Cherry Cake (eggless)",
          "Nutella Brownie (Eggless)",
          "Nutella And Fresh Strawberry Entremet",
          "Intense Chocolate And Caramel Cake",
          "Baileys Irish Cream",
          "Macaron Box of 6",
          "Dark Chocolate and Strawberry cake",
          "Tres Leches Dapper (eggless)",
          "Nutella Pull Up Cake",
          "Strawberry Streusel Cake",
          "Burnt Basque Cheesecake",
          "Walnut Banana and Whole Wheat Cake",
          "Roasted Walnut And Caramel",
          "Chocolate Fudge Brownie (Eggless)",
          "Hamper : Sumptuous (Eggless)",
          "Double Chocolate Walnut Brownie",
          "Hazelnut Chocolate Truffle Cake (eggless)",
          "Saffron Rasmalai Cake (eggless)",
          "La vie en rose",
          "Baked Gulab Jamun Cheesecake (Chaand Cake)",
          "Belgian Dark Chocolate Truffle Cake (eggless)",
          "La Vie En Rose",
          "Double Chocolate Walnut Brownie (Eggless)",
          "BESTSELLER PACK OF 2",
          "Almond and Milk Chocolate Brunette (Eggless)",
          "Belgian Dark Chocolate Truffle Cake (Eggless)",
          "Pistachio Blondie",
          "Lotus Biscoff Cake Loaf (Eggless)",
          "Lotus Biscoff Pull Up Cake (eggless)",
          "Gluten Free Chocolate Fudge Brownie",
          "Double Chocolate With Caramelised Pistachio (Eggless)",
          "BESTSELLER PACK OF 2 (Eggless)",
          "Lemon, Olive Oil and Chia Seed",
          "Blueberry Cheesecake (eggless)",
          "Strawberry Streusel Cake (Eggless)",
          "Golden hour",
          "Sugar-Free Belgian Chocolate Truffle cake (eggless)",
          "Almond and Milk Chocolate Brunette",
          "Mango Tres Leches Dapper",
          "Mauve Season",
          "Candles",
          "Mango Pull Up Cake (eggless)",
          "Cake toppers",
          "Shrewsbury thins",
          "Double Chocolate With Caramelised Pistachio (eggless)",
          "Mango And Cashew Entremet",
          "Hamper : Decadent (Eggless)",
          "Cookies Box of 3",
          "Blush",
          "Strawberry Pull up",
          "Hamper : Indulgent (Eggless)",
          "Autumn serenade",
          "Sourdough Bread",
          "Eggless croissant",
          "Brioche",
          "Paprika and cheese crackers",
          "Almond rocks",
          "Dark Chocolate Hazelnut (Eggless)",
          "Box Of 4",
          "Fresh Strawberry Cheesecake",
          "Mixed herbs and cheese sable",
          "Valentine's Hamper: Adore",
          "Bagels",
          "Golden Hour",
          "Hot chocolate powder",
          "Scarlett whim",
          "Cookie Dough Cake (eggless)",
          "Date, Palm And Walnut Cake (Vegan)",
          "Macaron Box Of 6",
          "Scarlett Whim",
          "Shrewsbury Thins",
          "Autumn Serenade",
          "Nutella Brownie (eggless)",
          "Parmesan cheese crackers",
          "Sun Drenched",
          "Walnut Banana And Whole Wheat Cake",
          "Nutty Cookies (eggless)",
          "Rakhi special : Blooms Before Bickering",
          "Chocolate Fudge Brownie (eggless)",
          "Pistachio Blondie (eggless)",
          "Lemon, Olive Oil And Chia Seed",
          "Almond And Milk Chocolate Brunette",
          "BESTSELLER PACK OF 2 (eggless)",
          0,
          "Sourdough Bread (Eggless)",
          "Strawberry Streusel Cake (eggless)",
          "Hamper : Sumptuous (eggless)",
          "Date, Palm And Walnut Cake (vegan)",
          "Hamper : Luxurious (eggless)",
          "Birthday Banner",
          "DIY cookie dough",
          "The Rakhi cake (Saffron Rasmalai eggless)",
          "Almond And Milk Chocolate Brunette (eggless)",
          "Red Velvet",
          "Honey mixed dry fruit jar",
          "Almond And Milk Chocolate Brunette (Eggless)",
          "Lotus Biscoff Cake Loaf (eggless)",
          "Saffron Kiss",
          "Red Velvet (Eggless)",
          "Salted butter crackers",
          "Easter Special - Intense chocolate and caramel cake",
          "Sun drenched",
          "Almond Rocks",
          "Cookies Box Of 3",
          "Double Chocolate Walnut Brownie (eggless)",
          "Eggless Croissant",
          "Mixed Herbs And Cheese Sable",
          "Birthday balloons (Pack of 15)",
          "Hamper : Decadent (eggless)",
          "Split delivery",
          "Parmesan Cheese Crackers",
          "Honey Mixed Dry Fruit Jar",
          "Coffee",
          "Paprika And Cheese Crackers",
          "Nutty Cookies (Eggless)",
          "Hot Chocolate Powder",
          "Balloon pump",
          "Salted Butter Crackers",
          "Red velvet Cream Cheese cookies",
          "Cake Toppers",
          "top",
          "Hamper : Indulgent (eggless)",
          "Birthday Balloons (Pack Of 15)",
          "Sourdough Bread (eggless)",
          "Balloon Pump",
          "false"
         ],
         "xaxis": "x",
         "y": {
          "bdata": "AAAAAAxWQUEAAAAAgC1BQQAAAAAmEEBBAAAAAGC0PUEAAAAA/NA5QQAAAABgzDlBAAAAAN6ZOUEAAAAAdMM4QQAAAACQiThBAAAAALyzN0EAAAAAwlo1QQAAAAAuhjRBAAAAAFz1MkEAAAAAVMYyQQAAAADYCzJBAAAAAJgkMUEAAAAAWAUxQQAAAAB88DBBAAAAAAB3MEEAAAAAgHQvQQAAAADoqC5BAAAAADyWLkEAAAAAgJQtQQAAAADQ8ilBAAAAAKzqKEEAAAAA9OMoQQAAAABYbChBAAAAAPgBJUEAAAAAXHskQQAAAAD4LyRBAAAAAODyI0EAAAAAuMsiQQAAAAAgcyJBAAAAADASHUEAAAAA6EEcQQAAAADIDBxBAAAAAIjlGUEAAAAAEEoZQQAAAADAHBlBAAAAALBGGEEAAAAAMDQUQQAAAAA41BFBAAAAAJCkEUEAAAAAoFgRQQAAAAAg6BBBAAAAABDLEEEAAAAAcMAQQQAAAAAQPQxBAAAAANAoC0EAAAAAIBwJQQAAAABA8ghBAAAAAAChCEEAAAAAgOoHQQAAAAC4KwdBAAAAACAoB0EAAAAAQBMGQQAAAABAXwVBAAAAAIDyBEEAAAAAwJkEQQAAAAAQdwRBAAAAAABqA0EAAAAAADMDQQAAAAAg5gJBAAAAAADjAkEAAAAAwLoBQQAAAABgogFBAAAAAMDjAEEAAAAAUNYAQQAAAAAA0QBBAAAAAACQ/0AAAAAAIPj+QAAAAADAmf5AAAAAAIBw/kAAAAAAwPn9QAAAAABg6/1AAAAAAIC3/UAAAAAAoF76QAAAAADAQ/pAAAAAAEAj+kAAAAAAIKj5QAAAAACAa/lAAAAAAID4+EAAAAAAAOf4QAAAAAAAkvhAAAAAAMBU+EAAAAAAgE/3QAAAAACAafZAAAAAAIBb9UAAAAAAgOP0QAAAAADgg/RAAAAAAKBR80AAAAAAAEzzQAAAAACgmPJAAAAAAMA38kAAAAAAIITwQAAAAADge/BAAAAAAAAY8EAAAAAAII3vQAAAAACAne5AAAAAAECs7UAAAAAAAD7sQAAAAAAAZ+tAAAAAAAAi6kAAAAAAwHzoQAAAAACA6udAAAAAAACi50AAAAAAgDHnQAAAAAAAFudAAAAAAAAH50AAAAAAgM7lQAAAAAAA6+RAAAAAAMDR40AAAAAAAOjiQAAAAAAA3uJAAAAAAICV4kAAAAAAAAziQAAAAADA8eFAAAAAAMAB4UAAAAAAwLvgQAAAAADAXOBAAAAAAICw30AAAAAAgBXfQAAAAAAAzd5AAAAAAACg3kAAAAAAgFLeQAAAAAAAQNpAAAAAAABk2UAAAAAAAFDZQAAAAAAAENhAAAAAAADA10AAAAAAAG3VQAAAAAAAzdRAAAAAAICt00AAAAAAAGvSQAAAAAAASNJAAAAAAABP0EAAAAAAAA7QQAAAAAAA4M9AAAAAAICYzkAAAAAAAJjMQAAAAAAA5MtAAAAAAACey0AAAAAAADrLQAAAAAAAqcpAAAAAAADAyEAAAAAAABDIQAAAAAAAjsdAAAAAAAA2xUAAAAAAACLFQAAAAAAAl8NAAAAAAABqw0AAAAAAABDDQAAAAAAAKsJAAAAAAAC4wEAAAAAAAKC+QAAAAAAAAL5AAAAAAAD2vUAAAAAAAKa9QAAAAAAAiL1AAAAAAADAvEAAAAAAAFC5QAAAAAAAELhAAAAAAAD6t0AAAAAAANS3QAAAAAAAkLVAAAAAAADItEAAAAAAAL60QAAAAAAA6LJAAAAAAACYskAAAAAAANitQAAAAAAAgKZAAAAAAADipEAAAAAAAIChQAAAAAAA4KBAAAAAAACcn0AAAAAAALyQQAAAAAAAgItAAAAAAACQgkAAAAAAAAB+QAAAAAAAwFhAAAAAAAAAAAA=",
          "dtype": "f8"
         },
         "yaxis": "y"
        },
        {
         "alignmentgroup": "True",
         "hovertemplate": "Metric=Quantity<br>Product_name=%{x}<br>Value=%{y}<extra></extra>",
         "legendgroup": "Quantity",
         "marker": {
          "color": "#EF553B",
          "pattern": {
           "shape": ""
          }
         },
         "name": "Quantity",
         "offsetgroup": "Quantity",
         "orientation": "v",
         "showlegend": true,
         "textposition": "auto",
         "type": "bar",
         "x": [
          "Tres Leches Dapper",
          "Ferrero Rocher Cake",
          "Pineapple, Lychee and Cherry Cake",
          "Lotus Biscoff Pull Up  Cake",
          "Mango Tres leches Dapper",
          "Mango Cheesecake (Eggless)",
          "Tiramisu Cake",
          "Hazelnut Chocolate Truffle Cake (Eggless)",
          "Mango pull up cake (eggless)",
          "Pineapple, Lychee and Cherry Cake (Eggless)",
          "Belgian Dark Chocolate Truffle cake (Eggless)",
          "Matilda cake",
          "Saffron Rasmalai Cake (Eggless)",
          "Nutella and Fresh Strawberry Entremet",
          "Mango Tres Leches Dapper (Eggless)",
          "Lotus Biscoff Pull Up  Cake (Eggless)",
          "Coffee pecan praline cake",
          "Tres Leches Dapper (Eggless)",
          "Sugar-Free Belgian Chocolate Truffle cake (Eggless)",
          "Hazelnut Milk Chocolate Entremet",
          "Mango and Cashew entremet",
          "Classic Black Forest Cake",
          "Intense chocolate and caramel cake",
          "Deep Chocolate Pull Up  Cake",
          "Black Satin Entremet (Chocolate Mousse Cake)",
          "White chocolate Raspberry",
          "Blueberry Cheesecake (Eggless)",
          "Fresh strawberry and cream cake",
          "Double Chocolate with Caramelised Pistachio (Eggless)",
          "Croissants",
          "Burnt basque cheesecake",
          "Roasted Walnut and Caramel",
          "Nutella pull up cake",
          "Banoffee Cake",
          "Cookie Dough Cake",
          "Strawberry Pull up (Eggless)",
          "Mango pull up cake",
          "Pineapple, Lychee And Cherry Cake",
          "Lotus Biscoff Pull Up Cake",
          "Opera",
          "Nutella Brownie",
          "Hamper : Luxurious (Eggless)",
          "Fresh Strawberry Cheesecake (Eggless)",
          "Matilda Cake",
          "Chocolate Fudge Brownie",
          "Pineapple, Lychee And Cherry Cake (Eggless)",
          "Coffee Pecan Praline Cake",
          "Cookie Dough Cake (Eggless)",
          "Pistachio Blondie (Eggless)",
          "White Chocolate Raspberry",
          "Box of 4",
          "Date, Palm and Walnut Cake (Vegan)",
          "Deep Chocolate Pull Up Cake",
          "Peaches & Cream",
          "Lotus Biscoff Pull Up Cake (Eggless)",
          "Pineapple, Lychee And Cherry Cake (eggless)",
          "Nutella Brownie (Eggless)",
          "Nutella And Fresh Strawberry Entremet",
          "Intense Chocolate And Caramel Cake",
          "Baileys Irish Cream",
          "Macaron Box of 6",
          "Dark Chocolate and Strawberry cake",
          "Tres Leches Dapper (eggless)",
          "Nutella Pull Up Cake",
          "Strawberry Streusel Cake",
          "Burnt Basque Cheesecake",
          "Walnut Banana and Whole Wheat Cake",
          "Roasted Walnut And Caramel",
          "Chocolate Fudge Brownie (Eggless)",
          "Hamper : Sumptuous (Eggless)",
          "Double Chocolate Walnut Brownie",
          "Hazelnut Chocolate Truffle Cake (eggless)",
          "Saffron Rasmalai Cake (eggless)",
          "La vie en rose",
          "Baked Gulab Jamun Cheesecake (Chaand Cake)",
          "Belgian Dark Chocolate Truffle Cake (eggless)",
          "La Vie En Rose",
          "Double Chocolate Walnut Brownie (Eggless)",
          "BESTSELLER PACK OF 2",
          "Almond and Milk Chocolate Brunette (Eggless)",
          "Belgian Dark Chocolate Truffle Cake (Eggless)",
          "Pistachio Blondie",
          "Lotus Biscoff Cake Loaf (Eggless)",
          "Lotus Biscoff Pull Up Cake (eggless)",
          "Gluten Free Chocolate Fudge Brownie",
          "Double Chocolate With Caramelised Pistachio (Eggless)",
          "BESTSELLER PACK OF 2 (Eggless)",
          "Lemon, Olive Oil and Chia Seed",
          "Blueberry Cheesecake (eggless)",
          "Strawberry Streusel Cake (Eggless)",
          "Golden hour",
          "Sugar-Free Belgian Chocolate Truffle cake (eggless)",
          "Almond and Milk Chocolate Brunette",
          "Mango Tres Leches Dapper",
          "Mauve Season",
          "Candles",
          "Mango Pull Up Cake (eggless)",
          "Cake toppers",
          "Shrewsbury thins",
          "Double Chocolate With Caramelised Pistachio (eggless)",
          "Mango And Cashew Entremet",
          "Hamper : Decadent (Eggless)",
          "Cookies Box of 3",
          "Blush",
          "Strawberry Pull up",
          "Hamper : Indulgent (Eggless)",
          "Autumn serenade",
          "Sourdough Bread",
          "Eggless croissant",
          "Brioche",
          "Paprika and cheese crackers",
          "Almond rocks",
          "Dark Chocolate Hazelnut (Eggless)",
          "Box Of 4",
          "Fresh Strawberry Cheesecake",
          "Mixed herbs and cheese sable",
          "Valentine's Hamper: Adore",
          "Bagels",
          "Golden Hour",
          "Hot chocolate powder",
          "Scarlett whim",
          "Cookie Dough Cake (eggless)",
          "Date, Palm And Walnut Cake (Vegan)",
          "Macaron Box Of 6",
          "Scarlett Whim",
          "Shrewsbury Thins",
          "Autumn Serenade",
          "Nutella Brownie (eggless)",
          "Parmesan cheese crackers",
          "Sun Drenched",
          "Walnut Banana And Whole Wheat Cake",
          "Nutty Cookies (eggless)",
          "Rakhi special : Blooms Before Bickering",
          "Chocolate Fudge Brownie (eggless)",
          "Pistachio Blondie (eggless)",
          "Lemon, Olive Oil And Chia Seed",
          "Almond And Milk Chocolate Brunette",
          "BESTSELLER PACK OF 2 (eggless)",
          0,
          "Sourdough Bread (Eggless)",
          "Strawberry Streusel Cake (eggless)",
          "Hamper : Sumptuous (eggless)",
          "Date, Palm And Walnut Cake (vegan)",
          "Hamper : Luxurious (eggless)",
          "Birthday Banner",
          "DIY cookie dough",
          "The Rakhi cake (Saffron Rasmalai eggless)",
          "Almond And Milk Chocolate Brunette (eggless)",
          "Red Velvet",
          "Honey mixed dry fruit jar",
          "Almond And Milk Chocolate Brunette (Eggless)",
          "Lotus Biscoff Cake Loaf (eggless)",
          "Saffron Kiss",
          "Red Velvet (Eggless)",
          "Salted butter crackers",
          "Easter Special - Intense chocolate and caramel cake",
          "Sun drenched",
          "Almond Rocks",
          "Cookies Box Of 3",
          "Double Chocolate Walnut Brownie (eggless)",
          "Eggless Croissant",
          "Mixed Herbs And Cheese Sable",
          "Birthday balloons (Pack of 15)",
          "Hamper : Decadent (eggless)",
          "Split delivery",
          "Parmesan Cheese Crackers",
          "Honey Mixed Dry Fruit Jar",
          "Coffee",
          "Paprika And Cheese Crackers",
          "Nutty Cookies (Eggless)",
          "Hot Chocolate Powder",
          "Balloon pump",
          "Salted Butter Crackers",
          "Red velvet Cream Cheese cookies",
          "Cake Toppers",
          "top",
          "Hamper : Indulgent (eggless)",
          "Birthday Balloons (Pack Of 15)",
          "Sourdough Bread (eggless)",
          "Balloon Pump",
          "false"
         ],
         "xaxis": "x",
         "y": {
          "bdata": "AAAAAAAclkAAAAAAACiUQAAAAAAAEJRAAAAAAACwkkAAAAAAACSQQAAAAAAAIJBAAAAAAABUkEAAAAAAAGCNQAAAAAAAkI9AAAAAAADojEAAAAAAAMCKQAAAAAAACIxAAAAAAAAgikAAAAAAAMiNQAAAAAAAqIVAAAAAAAAwhUAAAAAAAJCGQAAAAAAAyIVAAAAAAAC4hUAAAAAAACCDQAAAAAAAyINAAAAAAADAhEAAAAAAAOiDQAAAAAAAYIBAAAAAAADgfUAAAAAAAIB/QAAAAAAAoH5AAAAAAADwekAAAAAAAAB5QAAAAAAAtJdAAAAAAADwe0AAAAAAAOB2QAAAAAAAwHdAAAAAAABQdEAAAAAAAGiFQAAAAAAAoHJAAAAAAABQcEAAAAAAAMBtQAAAAAAA4G5AAAAAAACgbUAAAAAAAAB9QAAAAAAAwFpAAAAAAADgZ0AAAAAAAIBnQAAAAAAA0HlAAAAAAABgY0AAAAAAAIBlQAAAAAAA8HRAAAAAAACwc0AAAAAAAEBdQAAAAAAAQGxAAAAAAADgckAAAAAAAABdQAAAAAAAwF9AAAAAAADAXEAAAAAAAEBYQAAAAAAAAG9AAAAAAABAYEAAAAAAAIBbQAAAAAAAgG1AAAAAAADAcUAAAAAAAIBaQAAAAAAAwFZAAAAAAADAV0AAAAAAAMBqQAAAAAAAwFhAAAAAAAAAa0AAAAAAAEBVQAAAAAAAoGhAAAAAAAAAUEAAAAAAAKBnQAAAAAAAwFFAAAAAAAAAVEAAAAAAAABbQAAAAAAAwFdAAAAAAABAVEAAAAAAAEBWQAAAAAAAwGJAAAAAAABAWUAAAAAAACBjQAAAAAAAgE9AAAAAAABgYkAAAAAAAMBiQAAAAAAAAE9AAAAAAADgYEAAAAAAAABLQAAAAAAAgFZAAAAAAABgYkAAAAAAAIBLQAAAAAAAwF9AAAAAAACAS0AAAAAAAABKQAAAAAAAQFtAAAAAAAAASEAAAAAAAIBAQAAAAAAAYIVAAAAAAACARUAAAAAAAAiBQAAAAAAAoGxAAAAAAAAAQEAAAAAAAABDQAAAAAAAAEdAAAAAAABgY0AAAAAAAAA3QAAAAAAAAD9AAAAAAACAS0AAAAAAAIBDQAAAAAAA4GhAAAAAAABAWEAAAAAAAIBhQAAAAAAAQGNAAAAAAACAX0AAAAAAAAA7QAAAAAAAAEVAAAAAAAAAO0AAAAAAAEBVQAAAAAAAADlAAAAAAAAAZEAAAAAAAAA3QAAAAAAAgFdAAAAAAAAAPkAAAAAAAABHQAAAAAAAgEVAAAAAAAAATEAAAAAAAAA7QAAAAAAAAFhAAAAAAAAANEAAAAAAAIBDQAAAAAAAAFZAAAAAAAAAMEAAAAAAAAA/QAAAAAAAgEhAAAAAAAAAKkAAAAAAAAA+QAAAAAAAADtAAAAAAAAAOUAAAAAAAAA5QAAAAAAAADBAAAAAAAAAPkAAAAAAAIBOQAAAAAAAADRAAAAAAAAAHEAAAAAAAAA1QAAAAAAAABRAAAAAAAAAYEAAAAAAAAA9QAAAAAAAACJAAAAAAAAAMEAAAAAAAAAgQAAAAAAAADFAAAAAAAAAKkAAAAAAAAAqQAAAAAAAABhAAAAAAAAAEEAAAAAAAAA9QAAAAAAAABhAAAAAAAAAFEAAAAAAAAA3QAAAAAAAADZAAAAAAAAAJEAAAAAAAAAuQAAAAAAAAC5AAAAAAACAT0AAAAAAAAAUQAAAAAAAgEdAAAAAAAAAM0AAAAAAAAAkQAAAAAAAACZAAAAAAAAAMUAAAAAAAAAgQAAAAAAAACBAAAAAAAAAO0AAAAAAAAAgQAAAAAAAABhAAAAAAAAAMUAAAAAAAAAiQAAAAAAAAPA/AAAAAAAAGEAAAAAAAAAAQAAAAAAAAPA/AAAAAAAAAAA=",
          "dtype": "f8"
         },
         "yaxis": "y"
        }
       ],
       "layout": {
        "barmode": "group",
        "legend": {
         "title": {
          "text": "Metric"
         },
         "tracegroupgap": 0
        },
        "template": {
         "data": {
          "bar": [
           {
            "error_x": {
             "color": "#2a3f5f"
            },
            "error_y": {
             "color": "#2a3f5f"
            },
            "marker": {
             "line": {
              "color": "#E5ECF6",
              "width": 0.5
             },
             "pattern": {
              "fillmode": "overlay",
              "size": 10,
              "solidity": 0.2
             }
            },
            "type": "bar"
           }
          ],
          "barpolar": [
           {
            "marker": {
             "line": {
              "color": "#E5ECF6",
              "width": 0.5
             },
             "pattern": {
              "fillmode": "overlay",
              "size": 10,
              "solidity": 0.2
             }
            },
            "type": "barpolar"
           }
          ],
          "carpet": [
           {
            "aaxis": {
             "endlinecolor": "#2a3f5f",
             "gridcolor": "white",
             "linecolor": "white",
             "minorgridcolor": "white",
             "startlinecolor": "#2a3f5f"
            },
            "baxis": {
             "endlinecolor": "#2a3f5f",
             "gridcolor": "white",
             "linecolor": "white",
             "minorgridcolor": "white",
             "startlinecolor": "#2a3f5f"
            },
            "type": "carpet"
           }
          ],
          "choropleth": [
           {
            "colorbar": {
             "outlinewidth": 0,
             "ticks": ""
            },
            "type": "choropleth"
           }
          ],
          "contour": [
           {
            "colorbar": {
             "outlinewidth": 0,
             "ticks": ""
            },
            "colorscale": [
             [
              0,
              "#0d0887"
             ],
             [
              0.1111111111111111,
              "#46039f"
             ],
             [
              0.2222222222222222,
              "#7201a8"
             ],
             [
              0.3333333333333333,
              "#9c179e"
             ],
             [
              0.4444444444444444,
              "#bd3786"
             ],
             [
              0.5555555555555556,
              "#d8576b"
             ],
             [
              0.6666666666666666,
              "#ed7953"
             ],
             [
              0.7777777777777778,
              "#fb9f3a"
             ],
             [
              0.8888888888888888,
              "#fdca26"
             ],
             [
              1,
              "#f0f921"
             ]
            ],
            "type": "contour"
           }
          ],
          "contourcarpet": [
           {
            "colorbar": {
             "outlinewidth": 0,
             "ticks": ""
            },
            "type": "contourcarpet"
           }
          ],
          "heatmap": [
           {
            "colorbar": {
             "outlinewidth": 0,
             "ticks": ""
            },
            "colorscale": [
             [
              0,
              "#0d0887"
             ],
             [
              0.1111111111111111,
              "#46039f"
             ],
             [
              0.2222222222222222,
              "#7201a8"
             ],
             [
              0.3333333333333333,
              "#9c179e"
             ],
             [
              0.4444444444444444,
              "#bd3786"
             ],
             [
              0.5555555555555556,
              "#d8576b"
             ],
             [
              0.6666666666666666,
              "#ed7953"
             ],
             [
              0.7777777777777778,
              "#fb9f3a"
             ],
             [
              0.8888888888888888,
              "#fdca26"
             ],
             [
              1,
              "#f0f921"
             ]
            ],
            "type": "heatmap"
           }
          ],
          "histogram": [
           {
            "marker": {
             "pattern": {
              "fillmode": "overlay",
              "size": 10,
              "solidity": 0.2
             }
            },
            "type": "histogram"
           }
          ],
          "histogram2d": [
           {
            "colorbar": {
             "outlinewidth": 0,
             "ticks": ""
            },
            "colorscale": [
             [
              0,
              "#0d0887"
             ],
             [
              0.1111111111111111,
              "#46039f"
             ],
             [
              0.2222222222222222,
              "#7201a8"
             ],
             [
              0.3333333333333333,
              "#9c179e"
             ],
             [
              0.4444444444444444,
              "#bd3786"
             ],
             [
              0.5555555555555556,
              "#d8576b"
             ],
             [
              0.6666666666666666,
              "#ed7953"
             ],
             [
              0.7777777777777778,
              "#fb9f3a"
             ],
             [
              0.8888888888888888,
              "#fdca26"
             ],
             [
              1,
              "#f0f921"
             ]
            ],
            "type": "histogram2d"
           }
          ],
          "histogram2dcontour": [
           {
            "colorbar": {
             "outlinewidth": 0,
             "ticks": ""
            },
            "colorscale": [
             [
              0,
              "#0d0887"
             ],
             [
              0.1111111111111111,
              "#46039f"
             ],
             [
              0.2222222222222222,
              "#7201a8"
             ],
             [
              0.3333333333333333,
              "#9c179e"
             ],
             [
              0.4444444444444444,
              "#bd3786"
             ],
             [
              0.5555555555555556,
              "#d8576b"
             ],
             [
              0.6666666666666666,
              "#ed7953"
             ],
             [
              0.7777777777777778,
              "#fb9f3a"
             ],
             [
              0.8888888888888888,
              "#fdca26"
             ],
             [
              1,
              "#f0f921"
             ]
            ],
            "type": "histogram2dcontour"
           }
          ],
          "mesh3d": [
           {
            "colorbar": {
             "outlinewidth": 0,
             "ticks": ""
            },
            "type": "mesh3d"
           }
          ],
          "parcoords": [
           {
            "line": {
             "colorbar": {
              "outlinewidth": 0,
              "ticks": ""
             }
            },
            "type": "parcoords"
           }
          ],
          "pie": [
           {
            "automargin": true,
            "type": "pie"
           }
          ],
          "scatter": [
           {
            "fillpattern": {
             "fillmode": "overlay",
             "size": 10,
             "solidity": 0.2
            },
            "type": "scatter"
           }
          ],
          "scatter3d": [
           {
            "line": {
             "colorbar": {
              "outlinewidth": 0,
              "ticks": ""
             }
            },
            "marker": {
             "colorbar": {
              "outlinewidth": 0,
              "ticks": ""
             }
            },
            "type": "scatter3d"
           }
          ],
          "scattercarpet": [
           {
            "marker": {
             "colorbar": {
              "outlinewidth": 0,
              "ticks": ""
             }
            },
            "type": "scattercarpet"
           }
          ],
          "scattergeo": [
           {
            "marker": {
             "colorbar": {
              "outlinewidth": 0,
              "ticks": ""
             }
            },
            "type": "scattergeo"
           }
          ],
          "scattergl": [
           {
            "marker": {
             "colorbar": {
              "outlinewidth": 0,
              "ticks": ""
             }
            },
            "type": "scattergl"
           }
          ],
          "scattermap": [
           {
            "marker": {
             "colorbar": {
              "outlinewidth": 0,
              "ticks": ""
             }
            },
            "type": "scattermap"
           }
          ],
          "scattermapbox": [
           {
            "marker": {
             "colorbar": {
              "outlinewidth": 0,
              "ticks": ""
             }
            },
            "type": "scattermapbox"
           }
          ],
          "scatterpolar": [
           {
            "marker": {
             "colorbar": {
              "outlinewidth": 0,
              "ticks": ""
             }
            },
            "type": "scatterpolar"
           }
          ],
          "scatterpolargl": [
           {
            "marker": {
             "colorbar": {
              "outlinewidth": 0,
              "ticks": ""
             }
            },
            "type": "scatterpolargl"
           }
          ],
          "scatterternary": [
           {
            "marker": {
             "colorbar": {
              "outlinewidth": 0,
              "ticks": ""
             }
            },
            "type": "scatterternary"
           }
          ],
          "surface": [
           {
            "colorbar": {
             "outlinewidth": 0,
             "ticks": ""
            },
            "colorscale": [
             [
              0,
              "#0d0887"
             ],
             [
              0.1111111111111111,
              "#46039f"
             ],
             [
              0.2222222222222222,
              "#7201a8"
             ],
             [
              0.3333333333333333,
              "#9c179e"
             ],
             [
              0.4444444444444444,
              "#bd3786"
             ],
             [
              0.5555555555555556,
              "#d8576b"
             ],
             [
              0.6666666666666666,
              "#ed7953"
             ],
             [
              0.7777777777777778,
              "#fb9f3a"
             ],
             [
              0.8888888888888888,
              "#fdca26"
             ],
             [
              1,
              "#f0f921"
             ]
            ],
            "type": "surface"
           }
          ],
          "table": [
           {
            "cells": {
             "fill": {
              "color": "#EBF0F8"
             },
             "line": {
              "color": "white"
             }
            },
            "header": {
             "fill": {
              "color": "#C8D4E3"
             },
             "line": {
              "color": "white"
             }
            },
            "type": "table"
           }
          ]
         },
         "layout": {
          "annotationdefaults": {
           "arrowcolor": "#2a3f5f",
           "arrowhead": 0,
           "arrowwidth": 1
          },
          "autotypenumbers": "strict",
          "coloraxis": {
           "colorbar": {
            "outlinewidth": 0,
            "ticks": ""
           }
          },
          "colorscale": {
           "diverging": [
            [
             0,
             "#8e0152"
            ],
            [
             0.1,
             "#c51b7d"
            ],
            [
             0.2,
             "#de77ae"
            ],
            [
             0.3,
             "#f1b6da"
            ],
            [
             0.4,
             "#fde0ef"
            ],
            [
             0.5,
             "#f7f7f7"
            ],
            [
             0.6,
             "#e6f5d0"
            ],
            [
             0.7,
             "#b8e186"
            ],
            [
             0.8,
             "#7fbc41"
            ],
            [
             0.9,
             "#4d9221"
            ],
            [
             1,
             "#276419"
            ]
           ],
           "sequential": [
            [
             0,
             "#0d0887"
            ],
            [
             0.1111111111111111,
             "#46039f"
            ],
            [
             0.2222222222222222,
             "#7201a8"
            ],
            [
             0.3333333333333333,
             "#9c179e"
            ],
            [
             0.4444444444444444,
             "#bd3786"
            ],
            [
             0.5555555555555556,
             "#d8576b"
            ],
            [
             0.6666666666666666,
             "#ed7953"
            ],
            [
             0.7777777777777778,
             "#fb9f3a"
            ],
            [
             0.8888888888888888,
             "#fdca26"
            ],
            [
             1,
             "#f0f921"
            ]
           ],
           "sequentialminus": [
            [
             0,
             "#0d0887"
            ],
            [
             0.1111111111111111,
             "#46039f"
            ],
            [
             0.2222222222222222,
             "#7201a8"
            ],
            [
             0.3333333333333333,
             "#9c179e"
            ],
            [
             0.4444444444444444,
             "#bd3786"
            ],
            [
             0.5555555555555556,
             "#d8576b"
            ],
            [
             0.6666666666666666,
             "#ed7953"
            ],
            [
             0.7777777777777778,
             "#fb9f3a"
            ],
            [
             0.8888888888888888,
             "#fdca26"
            ],
            [
             1,
             "#f0f921"
            ]
           ]
          },
          "colorway": [
           "#636efa",
           "#EF553B",
           "#00cc96",
           "#ab63fa",
           "#FFA15A",
           "#19d3f3",
           "#FF6692",
           "#B6E880",
           "#FF97FF",
           "#FECB52"
          ],
          "font": {
           "color": "#2a3f5f"
          },
          "geo": {
           "bgcolor": "white",
           "lakecolor": "white",
           "landcolor": "#E5ECF6",
           "showlakes": true,
           "showland": true,
           "subunitcolor": "white"
          },
          "hoverlabel": {
           "align": "left"
          },
          "hovermode": "closest",
          "mapbox": {
           "style": "light"
          },
          "paper_bgcolor": "white",
          "plot_bgcolor": "#E5ECF6",
          "polar": {
           "angularaxis": {
            "gridcolor": "white",
            "linecolor": "white",
            "ticks": ""
           },
           "bgcolor": "#E5ECF6",
           "radialaxis": {
            "gridcolor": "white",
            "linecolor": "white",
            "ticks": ""
           }
          },
          "scene": {
           "xaxis": {
            "backgroundcolor": "#E5ECF6",
            "gridcolor": "white",
            "gridwidth": 2,
            "linecolor": "white",
            "showbackground": true,
            "ticks": "",
            "zerolinecolor": "white"
           },
           "yaxis": {
            "backgroundcolor": "#E5ECF6",
            "gridcolor": "white",
            "gridwidth": 2,
            "linecolor": "white",
            "showbackground": true,
            "ticks": "",
            "zerolinecolor": "white"
           },
           "zaxis": {
            "backgroundcolor": "#E5ECF6",
            "gridcolor": "white",
            "gridwidth": 2,
            "linecolor": "white",
            "showbackground": true,
            "ticks": "",
            "zerolinecolor": "white"
           }
          },
          "shapedefaults": {
           "line": {
            "color": "#2a3f5f"
           }
          },
          "ternary": {
           "aaxis": {
            "gridcolor": "white",
            "linecolor": "white",
            "ticks": ""
           },
           "baxis": {
            "gridcolor": "white",
            "linecolor": "white",
            "ticks": ""
           },
           "bgcolor": "#E5ECF6",
           "caxis": {
            "gridcolor": "white",
            "linecolor": "white",
            "ticks": ""
           }
          },
          "title": {
           "x": 0.05
          },
          "xaxis": {
           "automargin": true,
           "gridcolor": "white",
           "linecolor": "white",
           "ticks": "",
           "title": {
            "standoff": 15
           },
           "zerolinecolor": "white",
           "zerolinewidth": 2
          },
          "yaxis": {
           "automargin": true,
           "gridcolor": "white",
           "linecolor": "white",
           "ticks": "",
           "title": {
            "standoff": 15
           },
           "zerolinecolor": "white",
           "zerolinewidth": 2
          }
         }
        },
        "title": {
         "text": "Product by Sales and Quantity"
        },
        "xaxis": {
         "anchor": "y",
         "domain": [
          0,
          1
         ],
         "range": [
          -0.5,
          10
         ],
         "tickfont": {
          "color": "black"
         },
         "title": {
          "text": "Product_name"
         }
        },
        "yaxis": {
         "anchor": "x",
         "domain": [
          0,
          1
         ],
         "title": {
          "text": "Value"
         }
        }
       }
      }
     },
     "metadata": {},
     "output_type": "display_data"
    }
   ],
   "source": [
    "# Prouduct by Revenue and Quantity\n",
    "ndf = merged.copy()\n",
    "ndf = ndf.drop(columns = \"product_no\")\n",
    "ndf = ndf.dropna(subset=[\"Product_name\"])\n",
    "productrevenue = ndf.groupby(\"Product_name\").agg(\n",
    "    {\n",
    "        'Revenue': 'sum',\n",
    "        'Quantity': 'sum'\n",
    "    }\n",
    ").reset_index().sort_values(by = 'Revenue', ascending = False)\n",
    "pr = productrevenue.melt(\n",
    "    id_vars = \"Product_name\",\n",
    "    value_vars = [\"Revenue\", \"Quantity\"],\n",
    "    var_name = \"Metric\",\n",
    "    value_name = \"Value\"\n",
    ")\n",
    "fig = px.bar(pr, x = \"Product_name\", y=\"Value\", color = \"Metric\", barmode = \"group\", title = \"Product by Sales and Quantity\")\n",
    "fig.update_xaxes(\n",
    "    range = [-0.5,10],\n",
    "    tickfont = dict(color=\"black\")\n",
    ")\n",
    "fig.show()"
   ]
  },
  {
   "cell_type": "markdown",
   "id": "f7f37a0f",
   "metadata": {},
   "source": [
    "### Which marketing source drives the highest revenue?"
   ]
  },
  {
   "cell_type": "code",
   "execution_count": 23,
   "id": "95d818df",
   "metadata": {},
   "outputs": [
    {
     "data": {
      "application/vnd.plotly.v1+json": {
       "config": {
        "plotlyServerURL": "https://plot.ly"
       },
       "data": [
        {
         "hovertemplate": "source_origin=%{x}<br>subtotal=%{y}<extra></extra>",
         "legendgroup": "google",
         "marker": {
          "color": "#636efa",
          "pattern": {
           "shape": ""
          }
         },
         "name": "google",
         "orientation": "v",
         "showlegend": true,
         "textposition": "auto",
         "type": "bar",
         "x": [
          "google"
         ],
         "xaxis": "x",
         "y": {
          "bdata": "dXMQFbN2g0E=",
          "dtype": "f8"
         },
         "yaxis": "y"
        },
        {
         "hovertemplate": "source_origin=%{x}<br>subtotal=%{y}<extra></extra>",
         "legendgroup": "(direct)",
         "marker": {
          "color": "#EF553B",
          "pattern": {
           "shape": ""
          }
         },
         "name": "(direct)",
         "orientation": "v",
         "showlegend": true,
         "textposition": "auto",
         "type": "bar",
         "x": [
          "(direct)"
         ],
         "xaxis": "x",
         "y": {
          "bdata": "sRcDteiiXUE=",
          "dtype": "f8"
         },
         "yaxis": "y"
        },
        {
         "hovertemplate": "source_origin=%{x}<br>subtotal=%{y}<extra></extra>",
         "legendgroup": "FB_Ads",
         "marker": {
          "color": "#00cc96",
          "pattern": {
           "shape": ""
          }
         },
         "name": "FB_Ads",
         "orientation": "v",
         "showlegend": true,
         "textposition": "auto",
         "type": "bar",
         "x": [
          "FB_Ads"
         ],
         "xaxis": "x",
         "y": {
          "bdata": "AAAAANqaK0E=",
          "dtype": "f8"
         },
         "yaxis": "y"
        },
        {
         "hovertemplate": "source_origin=%{x}<br>subtotal=%{y}<extra></extra>",
         "legendgroup": "l.instagram.com",
         "marker": {
          "color": "#ab63fa",
          "pattern": {
           "shape": ""
          }
         },
         "name": "l.instagram.com",
         "orientation": "v",
         "showlegend": true,
         "textposition": "auto",
         "type": "bar",
         "x": [
          "l.instagram.com"
         ],
         "xaxis": "x",
         "y": {
          "bdata": "AAAAACwDJ0E=",
          "dtype": "f8"
         },
         "yaxis": "y"
        },
        {
         "hovertemplate": "source_origin=%{x}<br>subtotal=%{y}<extra></extra>",
         "legendgroup": "Data Not Available",
         "marker": {
          "color": "#FFA15A",
          "pattern": {
           "shape": ""
          }
         },
         "name": "Data Not Available",
         "orientation": "v",
         "showlegend": true,
         "textposition": "auto",
         "type": "bar",
         "x": [
          "Data Not Available"
         ],
         "xaxis": "x",
         "y": {
          "bdata": "AAAAAKgtHkE=",
          "dtype": "f8"
         },
         "yaxis": "y"
        },
        {
         "hovertemplate": "source_origin=%{x}<br>subtotal=%{y}<extra></extra>",
         "legendgroup": "bing",
         "marker": {
          "color": "#19d3f3",
          "pattern": {
           "shape": ""
          }
         },
         "name": "bing",
         "orientation": "v",
         "showlegend": true,
         "textposition": "auto",
         "type": "bar",
         "x": [
          "bing"
         ],
         "xaxis": "x",
         "y": {
          "bdata": "AAAAABQxHEE=",
          "dtype": "f8"
         },
         "yaxis": "y"
        },
        {
         "hovertemplate": "source_origin=%{x}<br>subtotal=%{y}<extra></extra>",
         "legendgroup": "Fb_Ads",
         "marker": {
          "color": "#FF6692",
          "pattern": {
           "shape": ""
          }
         },
         "name": "Fb_Ads",
         "orientation": "v",
         "showlegend": true,
         "textposition": "auto",
         "type": "bar",
         "x": [
          "Fb_Ads"
         ],
         "xaxis": "x",
         "y": {
          "bdata": "AAAAAODYG0E=",
          "dtype": "f8"
         },
         "yaxis": "y"
        },
        {
         "hovertemplate": "source_origin=%{x}<br>subtotal=%{y}<extra></extra>",
         "legendgroup": "contlo",
         "marker": {
          "color": "#B6E880",
          "pattern": {
           "shape": ""
          }
         },
         "name": "contlo",
         "orientation": "v",
         "showlegend": true,
         "textposition": "auto",
         "type": "bar",
         "x": [
          "contlo"
         ],
         "xaxis": "x",
         "y": {
          "bdata": "AAAAAIDUDkE=",
          "dtype": "f8"
         },
         "yaxis": "y"
        },
        {
         "hovertemplate": "source_origin=%{x}<br>subtotal=%{y}<extra></extra>",
         "legendgroup": "facebook",
         "marker": {
          "color": "#FF97FF",
          "pattern": {
           "shape": ""
          }
         },
         "name": "facebook",
         "orientation": "v",
         "showlegend": true,
         "textposition": "auto",
         "type": "bar",
         "x": [
          "facebook"
         ],
         "xaxis": "x",
         "y": {
          "bdata": "AAAAAOjjCEE=",
          "dtype": "f8"
         },
         "yaxis": "y"
        },
        {
         "hovertemplate": "source_origin=%{x}<br>subtotal=%{y}<extra></extra>",
         "legendgroup": "in.search.yahoo.com",
         "marker": {
          "color": "#FECB52",
          "pattern": {
           "shape": ""
          }
         },
         "name": "in.search.yahoo.com",
         "orientation": "v",
         "showlegend": true,
         "textposition": "auto",
         "type": "bar",
         "x": [
          "in.search.yahoo.com"
         ],
         "xaxis": "x",
         "y": {
          "bdata": "AAAAAEA0+UA=",
          "dtype": "f8"
         },
         "yaxis": "y"
        },
        {
         "hovertemplate": "source_origin=%{x}<br>subtotal=%{y}<extra></extra>",
         "legendgroup": "FB_ads",
         "marker": {
          "color": "#636efa",
          "pattern": {
           "shape": ""
          }
         },
         "name": "FB_ads",
         "orientation": "v",
         "showlegend": true,
         "textposition": "auto",
         "type": "bar",
         "x": [
          "FB_ads"
         ],
         "xaxis": "x",
         "y": {
          "bdata": "AAAAAOCc4kA=",
          "dtype": "f8"
         },
         "yaxis": "y"
        },
        {
         "hovertemplate": "source_origin=%{x}<br>subtotal=%{y}<extra></extra>",
         "legendgroup": "statics.teams.cdn.office.net",
         "marker": {
          "color": "#EF553B",
          "pattern": {
           "shape": ""
          }
         },
         "name": "statics.teams.cdn.office.net",
         "orientation": "v",
         "showlegend": true,
         "textposition": "auto",
         "type": "bar",
         "x": [
          "statics.teams.cdn.office.net"
         ],
         "xaxis": "x",
         "y": {
          "bdata": "AAAAAACC2UA=",
          "dtype": "f8"
         },
         "yaxis": "y"
        },
        {
         "hovertemplate": "source_origin=%{x}<br>subtotal=%{y}<extra></extra>",
         "legendgroup": "duckduckgo",
         "marker": {
          "color": "#00cc96",
          "pattern": {
           "shape": ""
          }
         },
         "name": "duckduckgo",
         "orientation": "v",
         "showlegend": true,
         "textposition": "auto",
         "type": "bar",
         "x": [
          "duckduckgo"
         ],
         "xaxis": "x",
         "y": {
          "bdata": "AAAAAIAX2EA=",
          "dtype": "f8"
         },
         "yaxis": "y"
        },
        {
         "hovertemplate": "source_origin=%{x}<br>subtotal=%{y}<extra></extra>",
         "legendgroup": "l.wl.co",
         "marker": {
          "color": "#ab63fa",
          "pattern": {
           "shape": ""
          }
         },
         "name": "l.wl.co",
         "orientation": "v",
         "showlegend": true,
         "textposition": "auto",
         "type": "bar",
         "x": [
          "l.wl.co"
         ],
         "xaxis": "x",
         "y": {
          "bdata": "AAAAAIAJ10A=",
          "dtype": "f8"
         },
         "yaxis": "y"
        },
        {
         "hovertemplate": "source_origin=%{x}<br>subtotal=%{y}<extra></extra>",
         "legendgroup": "mercury-t2.phonepe.com",
         "marker": {
          "color": "#FFA15A",
          "pattern": {
           "shape": ""
          }
         },
         "name": "mercury-t2.phonepe.com",
         "orientation": "v",
         "showlegend": true,
         "textposition": "auto",
         "type": "bar",
         "x": [
          "mercury-t2.phonepe.com"
         ],
         "xaxis": "x",
         "y": {
          "bdata": "AAAAAACj0UA=",
          "dtype": "f8"
         },
         "yaxis": "y"
        },
        {
         "hovertemplate": "source_origin=%{x}<br>subtotal=%{y}<extra></extra>",
         "legendgroup": "l.facebook.com",
         "marker": {
          "color": "#19d3f3",
          "pattern": {
           "shape": ""
          }
         },
         "name": "l.facebook.com",
         "orientation": "v",
         "showlegend": true,
         "textposition": "auto",
         "type": "bar",
         "x": [
          "l.facebook.com"
         ],
         "xaxis": "x",
         "y": {
          "bdata": "AAAAAACAy0A=",
          "dtype": "f8"
         },
         "yaxis": "y"
        },
        {
         "hovertemplate": "source_origin=%{x}<br>subtotal=%{y}<extra></extra>",
         "legendgroup": "yahoo",
         "marker": {
          "color": "#FF6692",
          "pattern": {
           "shape": ""
          }
         },
         "name": "yahoo",
         "orientation": "v",
         "showlegend": true,
         "textposition": "auto",
         "type": "bar",
         "x": [
          "yahoo"
         ],
         "xaxis": "x",
         "y": {
          "bdata": "AAAAAADlyUA=",
          "dtype": "f8"
         },
         "yaxis": "y"
        },
        {
         "hovertemplate": "source_origin=%{x}<br>subtotal=%{y}<extra></extra>",
         "legendgroup": "m.facebook.com",
         "marker": {
          "color": "#B6E880",
          "pattern": {
           "shape": ""
          }
         },
         "name": "m.facebook.com",
         "orientation": "v",
         "showlegend": true,
         "textposition": "auto",
         "type": "bar",
         "x": [
          "m.facebook.com"
         ],
         "xaxis": "x",
         "y": {
          "bdata": "AAAAAADlxUA=",
          "dtype": "f8"
         },
         "yaxis": "y"
        },
        {
         "hovertemplate": "source_origin=%{x}<br>subtotal=%{y}<extra></extra>",
         "legendgroup": "emea.search.yahoo.com",
         "marker": {
          "color": "#FF97FF",
          "pattern": {
           "shape": ""
          }
         },
         "name": "emea.search.yahoo.com",
         "orientation": "v",
         "showlegend": true,
         "textposition": "auto",
         "type": "bar",
         "x": [
          "emea.search.yahoo.com"
         ],
         "xaxis": "x",
         "y": {
          "bdata": "AAAAAAD1w0A=",
          "dtype": "f8"
         },
         "yaxis": "y"
        },
        {
         "hovertemplate": "source_origin=%{x}<br>subtotal=%{y}<extra></extra>",
         "legendgroup": "search.brave.com",
         "marker": {
          "color": "#FECB52",
          "pattern": {
           "shape": ""
          }
         },
         "name": "search.brave.com",
         "orientation": "v",
         "showlegend": true,
         "textposition": "auto",
         "type": "bar",
         "x": [
          "search.brave.com"
         ],
         "xaxis": "x",
         "y": {
          "bdata": "AAAAAACmw0A=",
          "dtype": "f8"
         },
         "yaxis": "y"
        },
        {
         "hovertemplate": "source_origin=%{x}<br>subtotal=%{y}<extra></extra>",
         "legendgroup": "mail.google.com",
         "marker": {
          "color": "#636efa",
          "pattern": {
           "shape": ""
          }
         },
         "name": "mail.google.com",
         "orientation": "v",
         "showlegend": true,
         "textposition": "auto",
         "type": "bar",
         "x": [
          "mail.google.com"
         ],
         "xaxis": "x",
         "y": {
          "bdata": "AAAAAABWw0A=",
          "dtype": "f8"
         },
         "yaxis": "y"
        },
        {
         "hovertemplate": "source_origin=%{x}<br>subtotal=%{y}<extra></extra>",
         "legendgroup": "chatgpt.com",
         "marker": {
          "color": "#EF553B",
          "pattern": {
           "shape": ""
          }
         },
         "name": "chatgpt.com",
         "orientation": "v",
         "showlegend": true,
         "textposition": "auto",
         "type": "bar",
         "x": [
          "chatgpt.com"
         ],
         "xaxis": "x",
         "y": {
          "bdata": "AAAAAAAXv0A=",
          "dtype": "f8"
         },
         "yaxis": "y"
        },
        {
         "hovertemplate": "source_origin=%{x}<br>subtotal=%{y}<extra></extra>",
         "legendgroup": "Google_Search",
         "marker": {
          "color": "#00cc96",
          "pattern": {
           "shape": ""
          }
         },
         "name": "Google_Search",
         "orientation": "v",
         "showlegend": true,
         "textposition": "auto",
         "type": "bar",
         "x": [
          "Google_Search"
         ],
         "xaxis": "x",
         "y": {
          "bdata": "AAAAAADIvkA=",
          "dtype": "f8"
         },
         "yaxis": "y"
        },
        {
         "hovertemplate": "source_origin=%{x}<br>subtotal=%{y}<extra></extra>",
         "legendgroup": "uk.search.yahoo.com",
         "marker": {
          "color": "#ab63fa",
          "pattern": {
           "shape": ""
          }
         },
         "name": "uk.search.yahoo.com",
         "orientation": "v",
         "showlegend": true,
         "textposition": "auto",
         "type": "bar",
         "x": [
          "uk.search.yahoo.com"
         ],
         "xaxis": "x",
         "y": {
          "bdata": "AAAAAAC6s0A=",
          "dtype": "f8"
         },
         "yaxis": "y"
        },
        {
         "hovertemplate": "source_origin=%{x}<br>subtotal=%{y}<extra></extra>",
         "legendgroup": "getrefe.com",
         "marker": {
          "color": "#FFA15A",
          "pattern": {
           "shape": ""
          }
         },
         "name": "getrefe.com",
         "orientation": "v",
         "showlegend": true,
         "textposition": "auto",
         "type": "bar",
         "x": [
          "getrefe.com"
         ],
         "xaxis": "x",
         "y": {
          "bdata": "AAAAAACYskA=",
          "dtype": "f8"
         },
         "yaxis": "y"
        },
        {
         "hovertemplate": "source_origin=%{x}<br>subtotal=%{y}<extra></extra>",
         "legendgroup": "links.rediff.com",
         "marker": {
          "color": "#19d3f3",
          "pattern": {
           "shape": ""
          }
         },
         "name": "links.rediff.com",
         "orientation": "v",
         "showlegend": true,
         "textposition": "auto",
         "type": "bar",
         "x": [
          "links.rediff.com"
         ],
         "xaxis": "x",
         "y": {
          "bdata": "AAAAAABUr0A=",
          "dtype": "f8"
         },
         "yaxis": "y"
        },
        {
         "hovertemplate": "source_origin=%{x}<br>subtotal=%{y}<extra></extra>",
         "legendgroup": "amintiri.giskaa.com",
         "marker": {
          "color": "#FF6692",
          "pattern": {
           "shape": ""
          }
         },
         "name": "amintiri.giskaa.com",
         "orientation": "v",
         "showlegend": true,
         "textposition": "auto",
         "type": "bar",
         "x": [
          "amintiri.giskaa.com"
         ],
         "xaxis": "x",
         "y": {
          "bdata": "AAAAAAD0pUA=",
          "dtype": "f8"
         },
         "yaxis": "y"
        },
        {
         "hovertemplate": "source_origin=%{x}<br>subtotal=%{y}<extra></extra>",
         "legendgroup": "nl.search.yahoo.com",
         "marker": {
          "color": "#B6E880",
          "pattern": {
           "shape": ""
          }
         },
         "name": "nl.search.yahoo.com",
         "orientation": "v",
         "showlegend": true,
         "textposition": "auto",
         "type": "bar",
         "x": [
          "nl.search.yahoo.com"
         ],
         "xaxis": "x",
         "y": {
          "bdata": "AAAAAAA+pUA=",
          "dtype": "f8"
         },
         "yaxis": "y"
        },
        {
         "hovertemplate": "source_origin=%{x}<br>subtotal=%{y}<extra></extra>",
         "legendgroup": "instagram.com",
         "marker": {
          "color": "#FF97FF",
          "pattern": {
           "shape": ""
          }
         },
         "name": "instagram.com",
         "orientation": "v",
         "showlegend": true,
         "textposition": "auto",
         "type": "bar",
         "x": [
          "instagram.com"
         ],
         "xaxis": "x",
         "y": {
          "bdata": "AAAAAABQpEA=",
          "dtype": "f8"
         },
         "yaxis": "y"
        },
        {
         "hovertemplate": "source_origin=%{x}<br>subtotal=%{y}<extra></extra>",
         "legendgroup": "6157716544982",
         "marker": {
          "color": "#FECB52",
          "pattern": {
           "shape": ""
          }
         },
         "name": "6157716544982",
         "orientation": "v",
         "showlegend": true,
         "textposition": "auto",
         "type": "bar",
         "x": [
          "6157716544982"
         ],
         "xaxis": "x",
         "y": {
          "bdata": "AAAAAAAUpEA=",
          "dtype": "f8"
         },
         "yaxis": "y"
        },
        {
         "hovertemplate": "source_origin=%{x}<br>subtotal=%{y}<extra></extra>",
         "legendgroup": "tripadvisor.com",
         "marker": {
          "color": "#636efa",
          "pattern": {
           "shape": ""
          }
         },
         "name": "tripadvisor.com",
         "orientation": "v",
         "showlegend": true,
         "textposition": "auto",
         "type": "bar",
         "x": [
          "tripadvisor.com"
         ],
         "xaxis": "x",
         "y": {
          "bdata": "AAAAAACYnEA=",
          "dtype": "f8"
         },
         "yaxis": "y"
        },
        {
         "hovertemplate": "source_origin=%{x}<br>subtotal=%{y}<extra></extra>",
         "legendgroup": "giskaa.com",
         "marker": {
          "color": "#EF553B",
          "pattern": {
           "shape": ""
          }
         },
         "name": "giskaa.com",
         "orientation": "v",
         "showlegend": true,
         "textposition": "auto",
         "type": "bar",
         "x": [
          "giskaa.com"
         ],
         "xaxis": "x",
         "y": {
          "bdata": "AAAAAAC4lUA=",
          "dtype": "f8"
         },
         "yaxis": "y"
        },
        {
         "hovertemplate": "source_origin=%{x}<br>subtotal=%{y}<extra></extra>",
         "legendgroup": "privacywall.org",
         "marker": {
          "color": "#00cc96",
          "pattern": {
           "shape": ""
          }
         },
         "name": "privacywall.org",
         "orientation": "v",
         "showlegend": true,
         "textposition": "auto",
         "type": "bar",
         "x": [
          "privacywall.org"
         ],
         "xaxis": "x",
         "y": {
          "bdata": "AAAAAACQlUA=",
          "dtype": "f8"
         },
         "yaxis": "y"
        },
        {
         "hovertemplate": "source_origin=%{x}<br>subtotal=%{y}<extra></extra>",
         "legendgroup": "shop_app",
         "marker": {
          "color": "#ab63fa",
          "pattern": {
           "shape": ""
          }
         },
         "name": "shop_app",
         "orientation": "v",
         "showlegend": true,
         "textposition": "auto",
         "type": "bar",
         "x": [
          "shop_app"
         ],
         "xaxis": "x",
         "y": {
          "bdata": "AAAAAACglEA=",
          "dtype": "f8"
         },
         "yaxis": "y"
        },
        {
         "hovertemplate": "source_origin=%{x}<br>subtotal=%{y}<extra></extra>",
         "legendgroup": "CAKECON18JAN",
         "marker": {
          "color": "#FFA15A",
          "pattern": {
           "shape": ""
          }
         },
         "name": "CAKECON18JAN",
         "orientation": "v",
         "showlegend": true,
         "textposition": "auto",
         "type": "bar",
         "x": [
          "CAKECON18JAN"
         ],
         "xaxis": "x",
         "y": {
          "bdata": "AAAAAACglEA=",
          "dtype": "f8"
         },
         "yaxis": "y"
        },
        {
         "hovertemplate": "source_origin=%{x}<br>subtotal=%{y}<extra></extra>",
         "legendgroup": "youtube.com",
         "marker": {
          "color": "#19d3f3",
          "pattern": {
           "shape": ""
          }
         },
         "name": "youtube.com",
         "orientation": "v",
         "showlegend": true,
         "textposition": "auto",
         "type": "bar",
         "x": [
          "youtube.com"
         ],
         "xaxis": "x",
         "y": {
          "bdata": "AAAAAAAolEA=",
          "dtype": "f8"
         },
         "yaxis": "y"
        },
        {
         "hovertemplate": "source_origin=%{x}<br>subtotal=%{y}<extra></extra>",
         "legendgroup": "keep.google.com",
         "marker": {
          "color": "#FF6692",
          "pattern": {
           "shape": ""
          }
         },
         "name": "keep.google.com",
         "orientation": "v",
         "showlegend": true,
         "textposition": "auto",
         "type": "bar",
         "x": [
          "keep.google.com"
         ],
         "xaxis": "x",
         "y": {
          "bdata": "AAAAAAAAlEA=",
          "dtype": "f8"
         },
         "yaxis": "y"
        },
        {
         "hovertemplate": "source_origin=%{x}<br>subtotal=%{y}<extra></extra>",
         "legendgroup": "login.microsoftonline.com",
         "marker": {
          "color": "#B6E880",
          "pattern": {
           "shape": ""
          }
         },
         "name": "login.microsoftonline.com",
         "orientation": "v",
         "showlegend": true,
         "textposition": "auto",
         "type": "bar",
         "x": [
          "login.microsoftonline.com"
         ],
         "xaxis": "x",
         "y": {
          "bdata": "AAAAAABgk0A=",
          "dtype": "f8"
         },
         "yaxis": "y"
        },
        {
         "hovertemplate": "source_origin=%{x}<br>subtotal=%{y}<extra></extra>",
         "legendgroup": "mercury.phonepe.com",
         "marker": {
          "color": "#FF97FF",
          "pattern": {
           "shape": ""
          }
         },
         "name": "mercury.phonepe.com",
         "orientation": "v",
         "showlegend": true,
         "textposition": "auto",
         "type": "bar",
         "x": [
          "mercury.phonepe.com"
         ],
         "xaxis": "x",
         "y": {
          "bdata": "AAAAAABgk0A=",
          "dtype": "f8"
         },
         "yaxis": "y"
        },
        {
         "hovertemplate": "source_origin=%{x}<br>subtotal=%{y}<extra></extra>",
         "legendgroup": "CON4FEB",
         "marker": {
          "color": "#FECB52",
          "pattern": {
           "shape": ""
          }
         },
         "name": "CON4FEB",
         "orientation": "v",
         "showlegend": true,
         "textposition": "auto",
         "type": "bar",
         "x": [
          "CON4FEB"
         ],
         "xaxis": "x",
         "y": {
          "bdata": "AAAAAACgjkA=",
          "dtype": "f8"
         },
         "yaxis": "y"
        },
        {
         "hovertemplate": "source_origin=%{x}<br>subtotal=%{y}<extra></extra>",
         "legendgroup": "abandoned_cart",
         "marker": {
          "color": "#636efa",
          "pattern": {
           "shape": ""
          }
         },
         "name": "abandoned_cart",
         "orientation": "v",
         "showlegend": true,
         "textposition": "auto",
         "type": "bar",
         "x": [
          "abandoned_cart"
         ],
         "xaxis": "x",
         "y": {
          "bdata": "AAAAAAAggkA=",
          "dtype": "f8"
         },
         "yaxis": "y"
        }
       ],
       "layout": {
        "barmode": "relative",
        "legend": {
         "title": {
          "text": "source_origin"
         },
         "tracegroupgap": 0
        },
        "template": {
         "data": {
          "bar": [
           {
            "error_x": {
             "color": "#2a3f5f"
            },
            "error_y": {
             "color": "#2a3f5f"
            },
            "marker": {
             "line": {
              "color": "#E5ECF6",
              "width": 0.5
             },
             "pattern": {
              "fillmode": "overlay",
              "size": 10,
              "solidity": 0.2
             }
            },
            "type": "bar"
           }
          ],
          "barpolar": [
           {
            "marker": {
             "line": {
              "color": "#E5ECF6",
              "width": 0.5
             },
             "pattern": {
              "fillmode": "overlay",
              "size": 10,
              "solidity": 0.2
             }
            },
            "type": "barpolar"
           }
          ],
          "carpet": [
           {
            "aaxis": {
             "endlinecolor": "#2a3f5f",
             "gridcolor": "white",
             "linecolor": "white",
             "minorgridcolor": "white",
             "startlinecolor": "#2a3f5f"
            },
            "baxis": {
             "endlinecolor": "#2a3f5f",
             "gridcolor": "white",
             "linecolor": "white",
             "minorgridcolor": "white",
             "startlinecolor": "#2a3f5f"
            },
            "type": "carpet"
           }
          ],
          "choropleth": [
           {
            "colorbar": {
             "outlinewidth": 0,
             "ticks": ""
            },
            "type": "choropleth"
           }
          ],
          "contour": [
           {
            "colorbar": {
             "outlinewidth": 0,
             "ticks": ""
            },
            "colorscale": [
             [
              0,
              "#0d0887"
             ],
             [
              0.1111111111111111,
              "#46039f"
             ],
             [
              0.2222222222222222,
              "#7201a8"
             ],
             [
              0.3333333333333333,
              "#9c179e"
             ],
             [
              0.4444444444444444,
              "#bd3786"
             ],
             [
              0.5555555555555556,
              "#d8576b"
             ],
             [
              0.6666666666666666,
              "#ed7953"
             ],
             [
              0.7777777777777778,
              "#fb9f3a"
             ],
             [
              0.8888888888888888,
              "#fdca26"
             ],
             [
              1,
              "#f0f921"
             ]
            ],
            "type": "contour"
           }
          ],
          "contourcarpet": [
           {
            "colorbar": {
             "outlinewidth": 0,
             "ticks": ""
            },
            "type": "contourcarpet"
           }
          ],
          "heatmap": [
           {
            "colorbar": {
             "outlinewidth": 0,
             "ticks": ""
            },
            "colorscale": [
             [
              0,
              "#0d0887"
             ],
             [
              0.1111111111111111,
              "#46039f"
             ],
             [
              0.2222222222222222,
              "#7201a8"
             ],
             [
              0.3333333333333333,
              "#9c179e"
             ],
             [
              0.4444444444444444,
              "#bd3786"
             ],
             [
              0.5555555555555556,
              "#d8576b"
             ],
             [
              0.6666666666666666,
              "#ed7953"
             ],
             [
              0.7777777777777778,
              "#fb9f3a"
             ],
             [
              0.8888888888888888,
              "#fdca26"
             ],
             [
              1,
              "#f0f921"
             ]
            ],
            "type": "heatmap"
           }
          ],
          "histogram": [
           {
            "marker": {
             "pattern": {
              "fillmode": "overlay",
              "size": 10,
              "solidity": 0.2
             }
            },
            "type": "histogram"
           }
          ],
          "histogram2d": [
           {
            "colorbar": {
             "outlinewidth": 0,
             "ticks": ""
            },
            "colorscale": [
             [
              0,
              "#0d0887"
             ],
             [
              0.1111111111111111,
              "#46039f"
             ],
             [
              0.2222222222222222,
              "#7201a8"
             ],
             [
              0.3333333333333333,
              "#9c179e"
             ],
             [
              0.4444444444444444,
              "#bd3786"
             ],
             [
              0.5555555555555556,
              "#d8576b"
             ],
             [
              0.6666666666666666,
              "#ed7953"
             ],
             [
              0.7777777777777778,
              "#fb9f3a"
             ],
             [
              0.8888888888888888,
              "#fdca26"
             ],
             [
              1,
              "#f0f921"
             ]
            ],
            "type": "histogram2d"
           }
          ],
          "histogram2dcontour": [
           {
            "colorbar": {
             "outlinewidth": 0,
             "ticks": ""
            },
            "colorscale": [
             [
              0,
              "#0d0887"
             ],
             [
              0.1111111111111111,
              "#46039f"
             ],
             [
              0.2222222222222222,
              "#7201a8"
             ],
             [
              0.3333333333333333,
              "#9c179e"
             ],
             [
              0.4444444444444444,
              "#bd3786"
             ],
             [
              0.5555555555555556,
              "#d8576b"
             ],
             [
              0.6666666666666666,
              "#ed7953"
             ],
             [
              0.7777777777777778,
              "#fb9f3a"
             ],
             [
              0.8888888888888888,
              "#fdca26"
             ],
             [
              1,
              "#f0f921"
             ]
            ],
            "type": "histogram2dcontour"
           }
          ],
          "mesh3d": [
           {
            "colorbar": {
             "outlinewidth": 0,
             "ticks": ""
            },
            "type": "mesh3d"
           }
          ],
          "parcoords": [
           {
            "line": {
             "colorbar": {
              "outlinewidth": 0,
              "ticks": ""
             }
            },
            "type": "parcoords"
           }
          ],
          "pie": [
           {
            "automargin": true,
            "type": "pie"
           }
          ],
          "scatter": [
           {
            "fillpattern": {
             "fillmode": "overlay",
             "size": 10,
             "solidity": 0.2
            },
            "type": "scatter"
           }
          ],
          "scatter3d": [
           {
            "line": {
             "colorbar": {
              "outlinewidth": 0,
              "ticks": ""
             }
            },
            "marker": {
             "colorbar": {
              "outlinewidth": 0,
              "ticks": ""
             }
            },
            "type": "scatter3d"
           }
          ],
          "scattercarpet": [
           {
            "marker": {
             "colorbar": {
              "outlinewidth": 0,
              "ticks": ""
             }
            },
            "type": "scattercarpet"
           }
          ],
          "scattergeo": [
           {
            "marker": {
             "colorbar": {
              "outlinewidth": 0,
              "ticks": ""
             }
            },
            "type": "scattergeo"
           }
          ],
          "scattergl": [
           {
            "marker": {
             "colorbar": {
              "outlinewidth": 0,
              "ticks": ""
             }
            },
            "type": "scattergl"
           }
          ],
          "scattermap": [
           {
            "marker": {
             "colorbar": {
              "outlinewidth": 0,
              "ticks": ""
             }
            },
            "type": "scattermap"
           }
          ],
          "scattermapbox": [
           {
            "marker": {
             "colorbar": {
              "outlinewidth": 0,
              "ticks": ""
             }
            },
            "type": "scattermapbox"
           }
          ],
          "scatterpolar": [
           {
            "marker": {
             "colorbar": {
              "outlinewidth": 0,
              "ticks": ""
             }
            },
            "type": "scatterpolar"
           }
          ],
          "scatterpolargl": [
           {
            "marker": {
             "colorbar": {
              "outlinewidth": 0,
              "ticks": ""
             }
            },
            "type": "scatterpolargl"
           }
          ],
          "scatterternary": [
           {
            "marker": {
             "colorbar": {
              "outlinewidth": 0,
              "ticks": ""
             }
            },
            "type": "scatterternary"
           }
          ],
          "surface": [
           {
            "colorbar": {
             "outlinewidth": 0,
             "ticks": ""
            },
            "colorscale": [
             [
              0,
              "#0d0887"
             ],
             [
              0.1111111111111111,
              "#46039f"
             ],
             [
              0.2222222222222222,
              "#7201a8"
             ],
             [
              0.3333333333333333,
              "#9c179e"
             ],
             [
              0.4444444444444444,
              "#bd3786"
             ],
             [
              0.5555555555555556,
              "#d8576b"
             ],
             [
              0.6666666666666666,
              "#ed7953"
             ],
             [
              0.7777777777777778,
              "#fb9f3a"
             ],
             [
              0.8888888888888888,
              "#fdca26"
             ],
             [
              1,
              "#f0f921"
             ]
            ],
            "type": "surface"
           }
          ],
          "table": [
           {
            "cells": {
             "fill": {
              "color": "#EBF0F8"
             },
             "line": {
              "color": "white"
             }
            },
            "header": {
             "fill": {
              "color": "#C8D4E3"
             },
             "line": {
              "color": "white"
             }
            },
            "type": "table"
           }
          ]
         },
         "layout": {
          "annotationdefaults": {
           "arrowcolor": "#2a3f5f",
           "arrowhead": 0,
           "arrowwidth": 1
          },
          "autotypenumbers": "strict",
          "coloraxis": {
           "colorbar": {
            "outlinewidth": 0,
            "ticks": ""
           }
          },
          "colorscale": {
           "diverging": [
            [
             0,
             "#8e0152"
            ],
            [
             0.1,
             "#c51b7d"
            ],
            [
             0.2,
             "#de77ae"
            ],
            [
             0.3,
             "#f1b6da"
            ],
            [
             0.4,
             "#fde0ef"
            ],
            [
             0.5,
             "#f7f7f7"
            ],
            [
             0.6,
             "#e6f5d0"
            ],
            [
             0.7,
             "#b8e186"
            ],
            [
             0.8,
             "#7fbc41"
            ],
            [
             0.9,
             "#4d9221"
            ],
            [
             1,
             "#276419"
            ]
           ],
           "sequential": [
            [
             0,
             "#0d0887"
            ],
            [
             0.1111111111111111,
             "#46039f"
            ],
            [
             0.2222222222222222,
             "#7201a8"
            ],
            [
             0.3333333333333333,
             "#9c179e"
            ],
            [
             0.4444444444444444,
             "#bd3786"
            ],
            [
             0.5555555555555556,
             "#d8576b"
            ],
            [
             0.6666666666666666,
             "#ed7953"
            ],
            [
             0.7777777777777778,
             "#fb9f3a"
            ],
            [
             0.8888888888888888,
             "#fdca26"
            ],
            [
             1,
             "#f0f921"
            ]
           ],
           "sequentialminus": [
            [
             0,
             "#0d0887"
            ],
            [
             0.1111111111111111,
             "#46039f"
            ],
            [
             0.2222222222222222,
             "#7201a8"
            ],
            [
             0.3333333333333333,
             "#9c179e"
            ],
            [
             0.4444444444444444,
             "#bd3786"
            ],
            [
             0.5555555555555556,
             "#d8576b"
            ],
            [
             0.6666666666666666,
             "#ed7953"
            ],
            [
             0.7777777777777778,
             "#fb9f3a"
            ],
            [
             0.8888888888888888,
             "#fdca26"
            ],
            [
             1,
             "#f0f921"
            ]
           ]
          },
          "colorway": [
           "#636efa",
           "#EF553B",
           "#00cc96",
           "#ab63fa",
           "#FFA15A",
           "#19d3f3",
           "#FF6692",
           "#B6E880",
           "#FF97FF",
           "#FECB52"
          ],
          "font": {
           "color": "#2a3f5f"
          },
          "geo": {
           "bgcolor": "white",
           "lakecolor": "white",
           "landcolor": "#E5ECF6",
           "showlakes": true,
           "showland": true,
           "subunitcolor": "white"
          },
          "hoverlabel": {
           "align": "left"
          },
          "hovermode": "closest",
          "mapbox": {
           "style": "light"
          },
          "paper_bgcolor": "white",
          "plot_bgcolor": "#E5ECF6",
          "polar": {
           "angularaxis": {
            "gridcolor": "white",
            "linecolor": "white",
            "ticks": ""
           },
           "bgcolor": "#E5ECF6",
           "radialaxis": {
            "gridcolor": "white",
            "linecolor": "white",
            "ticks": ""
           }
          },
          "scene": {
           "xaxis": {
            "backgroundcolor": "#E5ECF6",
            "gridcolor": "white",
            "gridwidth": 2,
            "linecolor": "white",
            "showbackground": true,
            "ticks": "",
            "zerolinecolor": "white"
           },
           "yaxis": {
            "backgroundcolor": "#E5ECF6",
            "gridcolor": "white",
            "gridwidth": 2,
            "linecolor": "white",
            "showbackground": true,
            "ticks": "",
            "zerolinecolor": "white"
           },
           "zaxis": {
            "backgroundcolor": "#E5ECF6",
            "gridcolor": "white",
            "gridwidth": 2,
            "linecolor": "white",
            "showbackground": true,
            "ticks": "",
            "zerolinecolor": "white"
           }
          },
          "shapedefaults": {
           "line": {
            "color": "#2a3f5f"
           }
          },
          "ternary": {
           "aaxis": {
            "gridcolor": "white",
            "linecolor": "white",
            "ticks": ""
           },
           "baxis": {
            "gridcolor": "white",
            "linecolor": "white",
            "ticks": ""
           },
           "bgcolor": "#E5ECF6",
           "caxis": {
            "gridcolor": "white",
            "linecolor": "white",
            "ticks": ""
           }
          },
          "title": {
           "x": 0.05
          },
          "xaxis": {
           "automargin": true,
           "gridcolor": "white",
           "linecolor": "white",
           "ticks": "",
           "title": {
            "standoff": 15
           },
           "zerolinecolor": "white",
           "zerolinewidth": 2
          },
          "yaxis": {
           "automargin": true,
           "gridcolor": "white",
           "linecolor": "white",
           "ticks": "",
           "title": {
            "standoff": 15
           },
           "zerolinecolor": "white",
           "zerolinewidth": 2
          }
         }
        },
        "title": {
         "text": "Marketing source vs Revenue"
        },
        "xaxis": {
         "anchor": "y",
         "categoryarray": [
          "google",
          "(direct)",
          "FB_Ads",
          "l.instagram.com",
          "Data Not Available",
          "bing",
          "Fb_Ads",
          "contlo",
          "facebook",
          "in.search.yahoo.com",
          "FB_ads",
          "statics.teams.cdn.office.net",
          "duckduckgo",
          "l.wl.co",
          "mercury-t2.phonepe.com",
          "l.facebook.com",
          "yahoo",
          "m.facebook.com",
          "emea.search.yahoo.com",
          "search.brave.com",
          "mail.google.com",
          "chatgpt.com",
          "Google_Search",
          "uk.search.yahoo.com",
          "getrefe.com",
          "links.rediff.com",
          "amintiri.giskaa.com",
          "nl.search.yahoo.com",
          "instagram.com",
          "6157716544982",
          "tripadvisor.com",
          "giskaa.com",
          "privacywall.org",
          "shop_app",
          "CAKECON18JAN",
          "youtube.com",
          "keep.google.com",
          "login.microsoftonline.com",
          "mercury.phonepe.com",
          "CON4FEB",
          "abandoned_cart"
         ],
         "categoryorder": "array",
         "domain": [
          0,
          1
         ],
         "title": {
          "text": "source_origin"
         }
        },
        "yaxis": {
         "anchor": "x",
         "domain": [
          0,
          1
         ],
         "title": {
          "text": "subtotal"
         }
        }
       }
      }
     },
     "metadata": {},
     "output_type": "display_data"
    }
   ],
   "source": [
    "marketingsource = df.groupby(\"source_origin\")[\"subtotal\"].sum().reset_index().sort_values(by = \"subtotal\", ascending = False)\n",
    "fig = px.bar(marketingsource, x = \"source_origin\", y = \"subtotal\", color = \"source_origin\", title = \"Marketing source vs Revenue\")\n",
    "fig.show()"
   ]
  },
  {
   "cell_type": "code",
   "execution_count": 21,
   "id": "6360ecc6",
   "metadata": {},
   "outputs": [
    {
     "data": {
      "text/html": [
       "<div>\n",
       "<style scoped>\n",
       "    .dataframe tbody tr th:only-of-type {\n",
       "        vertical-align: middle;\n",
       "    }\n",
       "\n",
       "    .dataframe tbody tr th {\n",
       "        vertical-align: top;\n",
       "    }\n",
       "\n",
       "    .dataframe thead th {\n",
       "        text-align: right;\n",
       "    }\n",
       "</style>\n",
       "<table border=\"1\" class=\"dataframe\">\n",
       "  <thead>\n",
       "    <tr style=\"text-align: right;\">\n",
       "      <th></th>\n",
       "      <th>user_pseudo_id</th>\n",
       "      <th>event_date</th>\n",
       "      <th>new_event_timestamp</th>\n",
       "      <th>pincode</th>\n",
       "      <th>subtotal</th>\n",
       "      <th>item_name_0</th>\n",
       "      <th>item_name_1</th>\n",
       "      <th>item_name_2</th>\n",
       "      <th>item_name_3</th>\n",
       "      <th>item_name_4</th>\n",
       "      <th>...</th>\n",
       "      <th>price_0</th>\n",
       "      <th>price_1</th>\n",
       "      <th>price_2</th>\n",
       "      <th>price_3</th>\n",
       "      <th>price_4</th>\n",
       "      <th>source_name</th>\n",
       "      <th>source_medium</th>\n",
       "      <th>source_origin</th>\n",
       "      <th>rw</th>\n",
       "      <th>cleaned_city</th>\n",
       "    </tr>\n",
       "  </thead>\n",
       "  <tbody>\n",
       "    <tr>\n",
       "      <th>22961</th>\n",
       "      <td>1410604358.1742804343</td>\n",
       "      <td>2025-03-24</td>\n",
       "      <td>2025-03-24 08:29:07.121660</td>\n",
       "      <td>560098</td>\n",
       "      <td>2,180</td>\n",
       "      <td>Pineapple, Lychee and Cherry Cake</td>\n",
       "      <td>0</td>\n",
       "      <td>0</td>\n",
       "      <td>0</td>\n",
       "      <td>0</td>\n",
       "      <td>...</td>\n",
       "      <td>2,180</td>\n",
       "      <td>0</td>\n",
       "      <td>0</td>\n",
       "      <td>0</td>\n",
       "      <td>0</td>\n",
       "      <td>(direct)</td>\n",
       "      <td>(none)</td>\n",
       "      <td>(direct)</td>\n",
       "      <td>1</td>\n",
       "      <td>bangalore</td>\n",
       "    </tr>\n",
       "  </tbody>\n",
       "</table>\n",
       "<p>1 rows × 30 columns</p>\n",
       "</div>"
      ],
      "text/plain": [
       "              user_pseudo_id event_date         new_event_timestamp  pincode  \\\n",
       "22961  1410604358.1742804343 2025-03-24  2025-03-24 08:29:07.121660   560098   \n",
       "\n",
       "       subtotal                        item_name_0 item_name_1 item_name_2  \\\n",
       "22961     2,180  Pineapple, Lychee and Cherry Cake           0           0   \n",
       "\n",
       "      item_name_3 item_name_4  ...  price_0  price_1  price_2  price_3  \\\n",
       "22961           0           0  ...    2,180        0        0        0   \n",
       "\n",
       "       price_4 source_name source_medium source_origin rw cleaned_city  \n",
       "22961        0    (direct)        (none)      (direct)  1    bangalore  \n",
       "\n",
       "[1 rows x 30 columns]"
      ]
     },
     "execution_count": 21,
     "metadata": {},
     "output_type": "execute_result"
    }
   ],
   "source": [
    "df.sample(1)"
   ]
  },
  {
   "cell_type": "code",
   "execution_count": null,
   "id": "e99cd9ac",
   "metadata": {},
   "outputs": [],
   "source": []
  }
 ],
 "metadata": {
  "kernelspec": {
   "display_name": "Python 3",
   "language": "python",
   "name": "python3"
  },
  "language_info": {
   "codemirror_mode": {
    "name": "ipython",
    "version": 3
   },
   "file_extension": ".py",
   "mimetype": "text/x-python",
   "name": "python",
   "nbconvert_exporter": "python",
   "pygments_lexer": "ipython3",
   "version": "3.13.5"
  }
 },
 "nbformat": 4,
 "nbformat_minor": 5
}
